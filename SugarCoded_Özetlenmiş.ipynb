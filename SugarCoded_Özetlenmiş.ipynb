{
 "cells": [
  {
   "cell_type": "code",
   "execution_count": 1,
   "id": "cb02f845-1d0b-4b36-afdd-84f753bc872e",
   "metadata": {},
   "outputs": [
    {
     "data": {
      "text/html": [
       "<style>:root { --jp-notebook-max-width: 100% !important; }</style>"
      ],
      "text/plain": [
       "<IPython.core.display.HTML object>"
      ]
     },
     "metadata": {},
     "output_type": "display_data"
    }
   ],
   "source": [
    "# # Jupyter Notebook'u tam sayfa yapmak için...\n",
    "from IPython.display import display, HTML\n",
    "display(HTML(\"<style>:root { --jp-notebook-max-width: 100% !important; }</style>\"))"
   ]
  },
  {
   "cell_type": "code",
   "execution_count": null,
   "id": "458765ff-eabe-4d46-ac2d-735dd8a40c91",
   "metadata": {},
   "outputs": [],
   "source": [
    "!pip install missingno\n",
    "!pip install mlxtend\n",
    "import numpy as np \n",
    "import pandas as pd \n",
    "import seaborn as sns\n",
    "import matplotlib.pyplot as plt\n",
    "import missingno as msno\n",
    "import mlxtend\n",
    "import warnings\n",
    "import datetime as dt\n",
    "!pip install scikit-learn==1.3.2 imbalanced-learn==0.11.0\n",
    "!pip install --upgrade pandas seaborn\n",
    "!pip install ipywidgets\n",
    "\n",
    "from lightgbm import LGBMClassifier\n",
    "from sklearn import metrics\n",
    "from sklearn.ensemble import RandomForestClassifier\n",
    "from sklearn.linear_model import LogisticRegression\n",
    "from sklearn.tree import DecisionTreeClassifier\n",
    "from sklearn.ensemble import GradientBoostingClassifier, ExtraTreesClassifier\n",
    "from sklearn.svm import SVC\n",
    "from sklearn.neighbors import KNeighborsClassifier\n",
    "from sklearn.preprocessing import StandardScaler, MinMaxScaler, LabelEncoder\n",
    "from sklearn.model_selection import train_test_split\n",
    "from sklearn.model_selection import KFold\n",
    "from mlxtend.plotting import plot_confusion_matrix\n",
    "from imblearn.over_sampling import SMOTE\n",
    "from sklearn.impute import SimpleImputer\n",
    "from sklearn.impute import KNNImputer\n",
    "from lazypredict.Supervised import LazyClassifier\n",
    "from sklearn.model_selection import cross_val_score \n",
    "from sklearn.metrics import accuracy_score, confusion_matrix, roc_auc_score, ConfusionMatrixDisplay, precision_score, recall_score, classification_report\n",
    "pd.set_option('display.max_columns', None)\n",
    "pd.set_option('display.max_rows', None)\n",
    "pd.set_option('display.width', 400)\n",
    "pd.set_option('display.float_format', lambda x: '%.2f' % x)\n",
    "pd.options.mode.chained_assignment = None"
   ]
  },
  {
   "cell_type": "code",
   "execution_count": 248,
   "id": "24a31c61-01a7-4677-bfa8-72d2410961b3",
   "metadata": {},
   "outputs": [],
   "source": [
    "df = pd.read_csv(\"diabetes.csv\")"
   ]
  },
  {
   "cell_type": "code",
   "execution_count": 250,
   "id": "ff60b223-feae-4d63-97e1-e281539adf8a",
   "metadata": {},
   "outputs": [
    {
     "data": {
      "text/html": [
       "<div>\n",
       "<style scoped>\n",
       "    .dataframe tbody tr th:only-of-type {\n",
       "        vertical-align: middle;\n",
       "    }\n",
       "\n",
       "    .dataframe tbody tr th {\n",
       "        vertical-align: top;\n",
       "    }\n",
       "\n",
       "    .dataframe thead th {\n",
       "        text-align: right;\n",
       "    }\n",
       "</style>\n",
       "<table border=\"1\" class=\"dataframe\">\n",
       "  <thead>\n",
       "    <tr style=\"text-align: right;\">\n",
       "      <th></th>\n",
       "      <th>Pregnancies</th>\n",
       "      <th>Glucose</th>\n",
       "      <th>BloodPressure</th>\n",
       "      <th>SkinThickness</th>\n",
       "      <th>Insulin</th>\n",
       "      <th>BMI</th>\n",
       "      <th>DiabetesPedigreeFunction</th>\n",
       "      <th>Age</th>\n",
       "      <th>Outcome</th>\n",
       "    </tr>\n",
       "  </thead>\n",
       "  <tbody>\n",
       "    <tr>\n",
       "      <th>0</th>\n",
       "      <td>6</td>\n",
       "      <td>148</td>\n",
       "      <td>72</td>\n",
       "      <td>35</td>\n",
       "      <td>0</td>\n",
       "      <td>33.60</td>\n",
       "      <td>0.63</td>\n",
       "      <td>50</td>\n",
       "      <td>1</td>\n",
       "    </tr>\n",
       "    <tr>\n",
       "      <th>1</th>\n",
       "      <td>1</td>\n",
       "      <td>85</td>\n",
       "      <td>66</td>\n",
       "      <td>29</td>\n",
       "      <td>0</td>\n",
       "      <td>26.60</td>\n",
       "      <td>0.35</td>\n",
       "      <td>31</td>\n",
       "      <td>0</td>\n",
       "    </tr>\n",
       "    <tr>\n",
       "      <th>2</th>\n",
       "      <td>8</td>\n",
       "      <td>183</td>\n",
       "      <td>64</td>\n",
       "      <td>0</td>\n",
       "      <td>0</td>\n",
       "      <td>23.30</td>\n",
       "      <td>0.67</td>\n",
       "      <td>32</td>\n",
       "      <td>1</td>\n",
       "    </tr>\n",
       "    <tr>\n",
       "      <th>3</th>\n",
       "      <td>1</td>\n",
       "      <td>89</td>\n",
       "      <td>66</td>\n",
       "      <td>23</td>\n",
       "      <td>94</td>\n",
       "      <td>28.10</td>\n",
       "      <td>0.17</td>\n",
       "      <td>21</td>\n",
       "      <td>0</td>\n",
       "    </tr>\n",
       "    <tr>\n",
       "      <th>4</th>\n",
       "      <td>0</td>\n",
       "      <td>137</td>\n",
       "      <td>40</td>\n",
       "      <td>35</td>\n",
       "      <td>168</td>\n",
       "      <td>43.10</td>\n",
       "      <td>2.29</td>\n",
       "      <td>33</td>\n",
       "      <td>1</td>\n",
       "    </tr>\n",
       "  </tbody>\n",
       "</table>\n",
       "</div>"
      ],
      "text/plain": [
       "   Pregnancies  Glucose  BloodPressure  SkinThickness  Insulin   BMI  DiabetesPedigreeFunction  Age  Outcome\n",
       "0            6      148             72             35        0 33.60                      0.63   50        1\n",
       "1            1       85             66             29        0 26.60                      0.35   31        0\n",
       "2            8      183             64              0        0 23.30                      0.67   32        1\n",
       "3            1       89             66             23       94 28.10                      0.17   21        0\n",
       "4            0      137             40             35      168 43.10                      2.29   33        1"
      ]
     },
     "execution_count": 250,
     "metadata": {},
     "output_type": "execute_result"
    }
   ],
   "source": [
    "df.head()"
   ]
  },
  {
   "cell_type": "code",
   "execution_count": 252,
   "id": "009410c4-caf5-4b67-a782-208c3eec2288",
   "metadata": {},
   "outputs": [],
   "source": [
    "def grab_col_names(dataframe, cat_th=10,  car_th=20):\n",
    "    \"\"\"\n",
    "    Veri setindeki kategorik, numerik ve kategorik fakat kardinal değişkenlerin isimlerini verir.\n",
    "\n",
    "    Parameters\n",
    "    ----------\n",
    "    dataframe: dataframe\n",
    "        değişken isimleri alınmak istenen dataframe'dir.\n",
    "    cat_th: int, float\n",
    "        numerik fakat kategorik olan değişkenler için sınıf eşik değeri\n",
    "    car_th: int, float\n",
    "        kategorik fakat kardinal değişkenler için sınıf eşik değeri\n",
    "\n",
    "    Returns\n",
    "    -------\n",
    "    cat_cols: list\n",
    "        Kategorik değişken listesi\n",
    "    num_cols: list\n",
    "        Numerik değişken listesi\n",
    "    cat_but_car: list\n",
    "        Kategorik görünümlü kardinal değişken listesi\n",
    "\n",
    "    Notes\n",
    "    ------\n",
    "    cat_cols + num_cols + cat_but_car = toplam değişken sayısı\n",
    "    num_but_cat cat_cols'un içerisinde.\n",
    "\n",
    "    \"\"\"\n",
    "    # cat_cols, cat_but_car\n",
    "    cat_cols = [col for col in dataframe.columns if str(dataframe[col].dtypes) in [\"category\", \"object\", \"bool\"]]\n",
    "\n",
    "    num_but_cat = [col for col in dataframe.columns if dataframe[col].nunique() < cat_th and dataframe[col].dtypes in [\"int\", \"float\"]]\n",
    "\n",
    "    cat_but_car = [col for col in dataframe.columns if\n",
    "                   dataframe[col].nunique() > car_th and str(dataframe[col].dtypes) in [\"category\", \"object\"]]\n",
    "\n",
    "    cat_cols = cat_cols + num_but_cat\n",
    "    cat_cols = [col for col in cat_cols if col not in cat_but_car]\n",
    "\n",
    "    num_cols = [col for col in dataframe.columns if dataframe[col].dtypes in [\"int\", \"float\"]]\n",
    "    num_cols = [col for col in num_cols if col not in cat_cols]\n",
    "\n",
    "    print(f\"Observations: {dataframe.shape[0]}\")\n",
    "    print(f\"Variables: {dataframe.shape[1]}\")\n",
    "    print(f'cat_cols: {len(cat_cols)}')\n",
    "    print(f'num_cols: {len(num_cols)}')\n",
    "    print(f'cat_but_car: {len(cat_but_car)}')\n",
    "    print(f'num_but_cat: {len(num_but_cat)}')\n",
    "\n",
    "    return cat_cols, num_cols, cat_but_car, num_but_cat\n"
   ]
  },
  {
   "cell_type": "code",
   "execution_count": 254,
   "id": "349dd9ed-f0d3-4427-8207-9d91b6e0be3a",
   "metadata": {},
   "outputs": [
    {
     "name": "stdout",
     "output_type": "stream",
     "text": [
      "Observations: 768\n",
      "Variables: 9\n",
      "cat_cols: 1\n",
      "num_cols: 8\n",
      "cat_but_car: 0\n",
      "num_but_cat: 1\n"
     ]
    }
   ],
   "source": [
    "cat_cols, num_cols, cat_but_car, num_but_cat = grab_col_names(df)"
   ]
  },
  {
   "cell_type": "code",
   "execution_count": 256,
   "id": "54d3e504-cefe-4a7e-8a19-b06988f37cd9",
   "metadata": {},
   "outputs": [
    {
     "name": "stdout",
     "output_type": "stream",
     "text": [
      "Pregnancies: 111 adet 0 değeri\n",
      "\n",
      " ############# \n",
      "\n",
      "Glucose: 5 adet 0 değeri\n",
      "\n",
      " ############# \n",
      "\n",
      "BloodPressure: 35 adet 0 değeri\n",
      "\n",
      " ############# \n",
      "\n",
      "SkinThickness: 227 adet 0 değeri\n",
      "\n",
      " ############# \n",
      "\n",
      "Insulin: 374 adet 0 değeri\n",
      "\n",
      " ############# \n",
      "\n",
      "BMI: 11 adet 0 değeri\n",
      "\n",
      " ############# \n",
      "\n",
      "Outcome: 500 adet 0 değeri\n",
      "\n",
      " ############# \n",
      "\n"
     ]
    }
   ],
   "source": [
    "for column in df.columns:\n",
    "    zero_count = (df[column] == 0).sum()\n",
    "    if zero_count > 0:\n",
    "        print(f\"{column}: {zero_count} adet 0 değeri\")\n",
    "        print(\"\\n ############# \\n\")"
   ]
  },
  {
   "cell_type": "code",
   "execution_count": 258,
   "id": "aca6420d-29fd-4636-a338-4f9355b2d093",
   "metadata": {},
   "outputs": [
    {
     "name": "stdout",
     "output_type": "stream",
     "text": [
      "Pregnancies: 14.45% oranında 0 değeri\n",
      "\n",
      " ############# \n",
      "\n",
      "Glucose: 0.65% oranında 0 değeri\n",
      "\n",
      " ############# \n",
      "\n",
      "BloodPressure: 4.56% oranında 0 değeri\n",
      "\n",
      " ############# \n",
      "\n",
      "SkinThickness: 29.56% oranında 0 değeri\n",
      "\n",
      " ############# \n",
      "\n",
      "Insulin: 48.70% oranında 0 değeri\n",
      "\n",
      " ############# \n",
      "\n",
      "BMI: 1.43% oranında 0 değeri\n",
      "\n",
      " ############# \n",
      "\n",
      "Outcome: 65.10% oranında 0 değeri\n",
      "\n",
      " ############# \n",
      "\n"
     ]
    }
   ],
   "source": [
    "for column in df.columns:\n",
    "    zero_count = (df[column] == 0).sum()/df.shape[0]\n",
    "    if zero_count > 0:\n",
    "        print(f\"{column}: {zero_count:.2%} oranında 0 değeri\")\n",
    "        print(\"\\n ############# \\n\")"
   ]
  },
  {
   "cell_type": "code",
   "execution_count": 260,
   "id": "0acb8caf-7705-4aee-b711-424fa723c784",
   "metadata": {},
   "outputs": [],
   "source": [
    "#data içerisinde 0 olan ama aslında null değerleri nan olarak değiştirme\n",
    "zero_columns= [col for col in df.columns if (df[col].min() == 0 and col not in ['Pregnancies','Outcome'])]"
   ]
  },
  {
   "cell_type": "code",
   "execution_count": 262,
   "id": "00fbcaef-b7ce-4b59-bad5-dfd146f3bbb3",
   "metadata": {},
   "outputs": [
    {
     "data": {
      "text/plain": [
       "['Glucose', 'BloodPressure', 'SkinThickness', 'Insulin', 'BMI']"
      ]
     },
     "execution_count": 262,
     "metadata": {},
     "output_type": "execute_result"
    }
   ],
   "source": [
    "zero_columns"
   ]
  },
  {
   "cell_type": "code",
   "execution_count": 264,
   "id": "bfa3e5ff-2c76-46ff-ba7d-d13171a18736",
   "metadata": {},
   "outputs": [],
   "source": [
    "for col in zero_columns:\n",
    "    df[col] = df[col].replace(0, np.nan)"
   ]
  },
  {
   "cell_type": "code",
   "execution_count": 266,
   "id": "175ae0de-eb6b-4cb0-aa42-94d5f54c5a21",
   "metadata": {},
   "outputs": [
    {
     "data": {
      "text/plain": [
       "(768, 9)"
      ]
     },
     "execution_count": 266,
     "metadata": {},
     "output_type": "execute_result"
    }
   ],
   "source": [
    "df.shape"
   ]
  },
  {
   "cell_type": "code",
   "execution_count": 268,
   "id": "a55d8183-b869-4640-8a63-ce6265fa50cf",
   "metadata": {},
   "outputs": [
    {
     "data": {
      "text/plain": [
       "Pregnancies                   0\n",
       "Glucose                       5\n",
       "BloodPressure                35\n",
       "SkinThickness               227\n",
       "Insulin                     374\n",
       "BMI                          11\n",
       "DiabetesPedigreeFunction      0\n",
       "Age                           0\n",
       "Outcome                       0\n",
       "dtype: int64"
      ]
     },
     "execution_count": 268,
     "metadata": {},
     "output_type": "execute_result"
    }
   ],
   "source": [
    "df.isnull().sum()"
   ]
  },
  {
   "cell_type": "code",
   "execution_count": 270,
   "id": "2cbaaad5-6fbe-43d0-916b-cb3e40e75e79",
   "metadata": {},
   "outputs": [
    {
     "name": "stdout",
     "output_type": "stream",
     "text": [
      "     Pregnancies  Glucose  BloodPressure  SkinThickness  Insulin   BMI  DiabetesPedigreeFunction  Age  Outcome  Eksik_Deger_Sayisi\n",
      "60             2    84.00            NaN            NaN      NaN   NaN                      0.30   21        0                   4\n",
      "81             2    74.00            NaN            NaN      NaN   NaN                      0.10   22        0                   4\n",
      "522            6   114.00            NaN            NaN      NaN   NaN                      0.19   26        0                   4\n",
      "494            3    80.00            NaN            NaN      NaN   NaN                      0.17   22        0                   4\n",
      "49             7   105.00            NaN            NaN      NaN   NaN                      0.30   24        0                   4\n",
      "706           10   115.00            NaN            NaN      NaN   NaN                      0.26   30        1                   4\n",
      "426            0    94.00            NaN            NaN      NaN   NaN                      0.26   25        0                   4\n",
      "430            2    99.00            NaN            NaN      NaN 22.20                      0.11   23        0                   3\n",
      "533            6    91.00            NaN            NaN      NaN 29.80                      0.50   31        0                   3\n",
      "269            2   146.00            NaN            NaN      NaN 27.50                      0.24   28        1                   3\n"
     ]
    }
   ],
   "source": [
    "# Her satırdaki boş değer sayısı\n",
    "df['Eksik_Deger_Sayisi'] = df.isnull().sum(axis=1)\n",
    "print(df.sort_values('Eksik_Deger_Sayisi', ascending=False).head(10))"
   ]
  },
  {
   "cell_type": "code",
   "execution_count": 272,
   "id": "fed35930-733e-463f-9c4d-37dc4bcd939c",
   "metadata": {},
   "outputs": [],
   "source": [
    "#tahmin düzeyi zorlaştığı ve çok fazla olmadığı için 4 farklı kolonda null verisi olan 7 satırı sildim\n",
    "df = df[df.isnull().sum(axis=1) != 4]"
   ]
  },
  {
   "cell_type": "code",
   "execution_count": 274,
   "id": "3253031d-4b84-4f57-ac02-a2cba2dac36d",
   "metadata": {},
   "outputs": [],
   "source": [
    "df.drop(\"Eksik_Deger_Sayisi\", axis=1, inplace=True)"
   ]
  },
  {
   "cell_type": "code",
   "execution_count": 276,
   "id": "563706db-55fa-4806-9773-ed406bcd37b5",
   "metadata": {},
   "outputs": [
    {
     "data": {
      "text/plain": [
       "(761, 9)"
      ]
     },
     "execution_count": 276,
     "metadata": {},
     "output_type": "execute_result"
    }
   ],
   "source": [
    "df.shape"
   ]
  },
  {
   "cell_type": "code",
   "execution_count": 278,
   "id": "db1652d2-3553-4b56-89f8-33eb604dc501",
   "metadata": {},
   "outputs": [
    {
     "data": {
      "text/html": [
       "<div>\n",
       "<style scoped>\n",
       "    .dataframe tbody tr th:only-of-type {\n",
       "        vertical-align: middle;\n",
       "    }\n",
       "\n",
       "    .dataframe tbody tr th {\n",
       "        vertical-align: top;\n",
       "    }\n",
       "\n",
       "    .dataframe thead th {\n",
       "        text-align: right;\n",
       "    }\n",
       "</style>\n",
       "<table border=\"1\" class=\"dataframe\">\n",
       "  <thead>\n",
       "    <tr style=\"text-align: right;\">\n",
       "      <th></th>\n",
       "      <th>Pregnancies</th>\n",
       "      <th>Glucose</th>\n",
       "      <th>BloodPressure</th>\n",
       "      <th>SkinThickness</th>\n",
       "      <th>Insulin</th>\n",
       "      <th>BMI</th>\n",
       "      <th>DiabetesPedigreeFunction</th>\n",
       "      <th>Age</th>\n",
       "      <th>Outcome</th>\n",
       "    </tr>\n",
       "  </thead>\n",
       "  <tbody>\n",
       "    <tr>\n",
       "      <th>0</th>\n",
       "      <td>6.00</td>\n",
       "      <td>148.00</td>\n",
       "      <td>72.00</td>\n",
       "      <td>35.00</td>\n",
       "      <td>334.20</td>\n",
       "      <td>33.60</td>\n",
       "      <td>0.63</td>\n",
       "      <td>50.00</td>\n",
       "      <td>1.00</td>\n",
       "    </tr>\n",
       "    <tr>\n",
       "      <th>1</th>\n",
       "      <td>1.00</td>\n",
       "      <td>85.00</td>\n",
       "      <td>66.00</td>\n",
       "      <td>29.00</td>\n",
       "      <td>56.20</td>\n",
       "      <td>26.60</td>\n",
       "      <td>0.35</td>\n",
       "      <td>31.00</td>\n",
       "      <td>0.00</td>\n",
       "    </tr>\n",
       "    <tr>\n",
       "      <th>2</th>\n",
       "      <td>8.00</td>\n",
       "      <td>183.00</td>\n",
       "      <td>64.00</td>\n",
       "      <td>32.20</td>\n",
       "      <td>238.00</td>\n",
       "      <td>23.30</td>\n",
       "      <td>0.67</td>\n",
       "      <td>32.00</td>\n",
       "      <td>1.00</td>\n",
       "    </tr>\n",
       "    <tr>\n",
       "      <th>3</th>\n",
       "      <td>1.00</td>\n",
       "      <td>89.00</td>\n",
       "      <td>66.00</td>\n",
       "      <td>23.00</td>\n",
       "      <td>94.00</td>\n",
       "      <td>28.10</td>\n",
       "      <td>0.17</td>\n",
       "      <td>21.00</td>\n",
       "      <td>0.00</td>\n",
       "    </tr>\n",
       "    <tr>\n",
       "      <th>4</th>\n",
       "      <td>0.00</td>\n",
       "      <td>137.00</td>\n",
       "      <td>40.00</td>\n",
       "      <td>35.00</td>\n",
       "      <td>168.00</td>\n",
       "      <td>43.10</td>\n",
       "      <td>2.29</td>\n",
       "      <td>33.00</td>\n",
       "      <td>1.00</td>\n",
       "    </tr>\n",
       "  </tbody>\n",
       "</table>\n",
       "</div>"
      ],
      "text/plain": [
       "   Pregnancies  Glucose  BloodPressure  SkinThickness  Insulin   BMI  DiabetesPedigreeFunction   Age  Outcome\n",
       "0         6.00   148.00          72.00          35.00   334.20 33.60                      0.63 50.00     1.00\n",
       "1         1.00    85.00          66.00          29.00    56.20 26.60                      0.35 31.00     0.00\n",
       "2         8.00   183.00          64.00          32.20   238.00 23.30                      0.67 32.00     1.00\n",
       "3         1.00    89.00          66.00          23.00    94.00 28.10                      0.17 21.00     0.00\n",
       "4         0.00   137.00          40.00          35.00   168.00 43.10                      2.29 33.00     1.00"
      ]
     },
     "execution_count": 278,
     "metadata": {},
     "output_type": "execute_result"
    }
   ],
   "source": [
    "#knn missing v\n",
    "scaler = MinMaxScaler()\n",
    "df = pd.DataFrame(scaler.fit_transform(df), columns=df.columns)\n",
    "\n",
    "imputer = KNNImputer(n_neighbors=5)\n",
    "df = pd.DataFrame(imputer.fit_transform(df), columns=df.columns)\n",
    "\n",
    "df = pd.DataFrame(scaler.inverse_transform(df), columns=df.columns)\n",
    "df.head()"
   ]
  },
  {
   "cell_type": "code",
   "execution_count": 280,
   "id": "db5a84f0-e9ab-413b-bba7-bb9e9f244779",
   "metadata": {},
   "outputs": [
    {
     "data": {
      "text/plain": [
       "Pregnancies                 0\n",
       "Glucose                     0\n",
       "BloodPressure               0\n",
       "SkinThickness               0\n",
       "Insulin                     0\n",
       "BMI                         0\n",
       "DiabetesPedigreeFunction    0\n",
       "Age                         0\n",
       "Outcome                     0\n",
       "dtype: int64"
      ]
     },
     "execution_count": 280,
     "metadata": {},
     "output_type": "execute_result"
    }
   ],
   "source": [
    "df.isnull().sum()"
   ]
  },
  {
   "cell_type": "code",
   "execution_count": 282,
   "id": "7cf462c6-ed2b-4352-a602-9fb172d700c8",
   "metadata": {},
   "outputs": [],
   "source": [
    "# BMI ile Insulin feture oluşturma\n",
    "df[\"NEW_BMI*Insulin\"] = df['BMI']*df['Insulin']"
   ]
  },
  {
   "cell_type": "code",
   "execution_count": 284,
   "id": "a5758fef-dbbf-4dc6-9563-b7ef5b032646",
   "metadata": {},
   "outputs": [],
   "source": [
    "# outlier eşiğini belirliyoruz\n",
    "def outlier_thresholds(dataframe, col_name, q1=0.25, q3=0.75):\n",
    "    quartile1 = dataframe[col_name].quantile(q1)\n",
    "    quartile3 = dataframe[col_name].quantile(q3)\n",
    "    interquantile_range = quartile3 - quartile1\n",
    "    up_limit = quartile3 + 1.5 * interquantile_range\n",
    "    low_limit = quartile1 - 1.5 * interquantile_range\n",
    "    return low_limit, up_limit"
   ]
  },
  {
   "cell_type": "code",
   "execution_count": 286,
   "id": "85dd0644-f65e-4dd6-8ea9-f7faed081043",
   "metadata": {},
   "outputs": [
    {
     "name": "stdout",
     "output_type": "stream",
     "text": [
      "Pregnancies (-6.499999999999998, 13.499999999999996)\n",
      "Glucose (38.5, 202.5)\n",
      "BloodPressure (39.99999999999998, 104.00000000000003)\n",
      "SkinThickness (5.0, 53.0)\n",
      "Insulin (-60.000000000000085, 340.00000000000006)\n",
      "BMI (13.849999999999998, 50.25)\n",
      "DiabetesPedigreeFunction (-0.3335, 1.2065000000000001)\n",
      "Age (-1.5, 66.5)\n"
     ]
    }
   ],
   "source": [
    "for col in num_cols:\n",
    "    print(col, outlier_thresholds(df, col))"
   ]
  },
  {
   "cell_type": "code",
   "execution_count": 288,
   "id": "0925d8b6-fdec-46ba-a061-4ea7ea7f8f05",
   "metadata": {},
   "outputs": [],
   "source": [
    "def check_outlier(dataframe, col_name):\n",
    "    low_limit, up_limit = outlier_thresholds(dataframe, col_name)\n",
    "    outliers = dataframe[col_name][(dataframe[col_name] < low_limit) | (dataframe[col_name] > up_limit)]\n",
    "    return outliers.any() "
   ]
  },
  {
   "cell_type": "code",
   "execution_count": 290,
   "id": "bdcbdbeb-208a-4e81-bbf1-a8165bd54c91",
   "metadata": {},
   "outputs": [
    {
     "name": "stdout",
     "output_type": "stream",
     "text": [
      "Pregnancies True\n",
      "Glucose False\n",
      "BloodPressure True\n",
      "SkinThickness True\n",
      "Insulin True\n",
      "BMI True\n",
      "DiabetesPedigreeFunction True\n",
      "Age True\n"
     ]
    }
   ],
   "source": [
    "for col in num_cols:\n",
    "    print(col, check_outlier(df, col))"
   ]
  },
  {
   "cell_type": "code",
   "execution_count": 292,
   "id": "e5800199-daa1-45bf-a007-9ef47e92abdb",
   "metadata": {},
   "outputs": [],
   "source": [
    "# trashold değerlerine baskılama fonksiyonu\n",
    "def replace_with_thresholds(dataframe, variable):\n",
    "    low_limit, up_limit = outlier_thresholds(dataframe, variable)\n",
    "    dataframe.loc[(dataframe[variable] < low_limit), variable] = low_limit\n",
    "    dataframe.loc[(dataframe[variable] > up_limit), variable] = up_limit"
   ]
  },
  {
   "cell_type": "code",
   "execution_count": 294,
   "id": "d5d582a9-8a44-47e1-9844-19c794582558",
   "metadata": {},
   "outputs": [],
   "source": [
    "for col in num_cols:\n",
    "    replace_with_thresholds(df, col)"
   ]
  },
  {
   "cell_type": "code",
   "execution_count": 296,
   "id": "b0a338b2-12ea-49fb-bdb9-b7d4436a0bcf",
   "metadata": {},
   "outputs": [
    {
     "name": "stdout",
     "output_type": "stream",
     "text": [
      "Pregnancies False\n",
      "Glucose False\n",
      "BloodPressure False\n",
      "SkinThickness False\n",
      "Insulin False\n",
      "BMI False\n",
      "DiabetesPedigreeFunction False\n",
      "Age False\n"
     ]
    }
   ],
   "source": [
    "for col in num_cols:\n",
    "    print(col, check_outlier(df, col))"
   ]
  },
  {
   "cell_type": "code",
   "execution_count": 298,
   "id": "9bf3f2f0-d2ed-49f3-91a7-96bb0c5e534c",
   "metadata": {},
   "outputs": [
    {
     "data": {
      "text/html": [
       "<div>\n",
       "<style scoped>\n",
       "    .dataframe tbody tr th:only-of-type {\n",
       "        vertical-align: middle;\n",
       "    }\n",
       "\n",
       "    .dataframe tbody tr th {\n",
       "        vertical-align: top;\n",
       "    }\n",
       "\n",
       "    .dataframe thead th {\n",
       "        text-align: right;\n",
       "    }\n",
       "</style>\n",
       "<table border=\"1\" class=\"dataframe\">\n",
       "  <thead>\n",
       "    <tr style=\"text-align: right;\">\n",
       "      <th></th>\n",
       "      <th>Pregnancies</th>\n",
       "      <th>Glucose</th>\n",
       "      <th>BloodPressure</th>\n",
       "      <th>SkinThickness</th>\n",
       "      <th>Insulin</th>\n",
       "      <th>BMI</th>\n",
       "      <th>DiabetesPedigreeFunction</th>\n",
       "      <th>Age</th>\n",
       "      <th>Outcome</th>\n",
       "      <th>NEW_BMI*Insulin</th>\n",
       "    </tr>\n",
       "  </thead>\n",
       "  <tbody>\n",
       "    <tr>\n",
       "      <th>0</th>\n",
       "      <td>6.00</td>\n",
       "      <td>148.00</td>\n",
       "      <td>72.00</td>\n",
       "      <td>35.00</td>\n",
       "      <td>334.20</td>\n",
       "      <td>33.60</td>\n",
       "      <td>0.63</td>\n",
       "      <td>50.00</td>\n",
       "      <td>1.00</td>\n",
       "      <td>11229.12</td>\n",
       "    </tr>\n",
       "    <tr>\n",
       "      <th>1</th>\n",
       "      <td>1.00</td>\n",
       "      <td>85.00</td>\n",
       "      <td>66.00</td>\n",
       "      <td>29.00</td>\n",
       "      <td>56.20</td>\n",
       "      <td>26.60</td>\n",
       "      <td>0.35</td>\n",
       "      <td>31.00</td>\n",
       "      <td>0.00</td>\n",
       "      <td>1494.92</td>\n",
       "    </tr>\n",
       "    <tr>\n",
       "      <th>2</th>\n",
       "      <td>8.00</td>\n",
       "      <td>183.00</td>\n",
       "      <td>64.00</td>\n",
       "      <td>32.20</td>\n",
       "      <td>238.00</td>\n",
       "      <td>23.30</td>\n",
       "      <td>0.67</td>\n",
       "      <td>32.00</td>\n",
       "      <td>1.00</td>\n",
       "      <td>5545.40</td>\n",
       "    </tr>\n",
       "    <tr>\n",
       "      <th>3</th>\n",
       "      <td>1.00</td>\n",
       "      <td>89.00</td>\n",
       "      <td>66.00</td>\n",
       "      <td>23.00</td>\n",
       "      <td>94.00</td>\n",
       "      <td>28.10</td>\n",
       "      <td>0.17</td>\n",
       "      <td>21.00</td>\n",
       "      <td>0.00</td>\n",
       "      <td>2641.40</td>\n",
       "    </tr>\n",
       "    <tr>\n",
       "      <th>4</th>\n",
       "      <td>0.00</td>\n",
       "      <td>137.00</td>\n",
       "      <td>40.00</td>\n",
       "      <td>35.00</td>\n",
       "      <td>168.00</td>\n",
       "      <td>43.10</td>\n",
       "      <td>1.21</td>\n",
       "      <td>33.00</td>\n",
       "      <td>1.00</td>\n",
       "      <td>7240.80</td>\n",
       "    </tr>\n",
       "  </tbody>\n",
       "</table>\n",
       "</div>"
      ],
      "text/plain": [
       "   Pregnancies  Glucose  BloodPressure  SkinThickness  Insulin   BMI  DiabetesPedigreeFunction   Age  Outcome  NEW_BMI*Insulin\n",
       "0         6.00   148.00          72.00          35.00   334.20 33.60                      0.63 50.00     1.00         11229.12\n",
       "1         1.00    85.00          66.00          29.00    56.20 26.60                      0.35 31.00     0.00          1494.92\n",
       "2         8.00   183.00          64.00          32.20   238.00 23.30                      0.67 32.00     1.00          5545.40\n",
       "3         1.00    89.00          66.00          23.00    94.00 28.10                      0.17 21.00     0.00          2641.40\n",
       "4         0.00   137.00          40.00          35.00   168.00 43.10                      1.21 33.00     1.00          7240.80"
      ]
     },
     "execution_count": 298,
     "metadata": {},
     "output_type": "execute_result"
    }
   ],
   "source": [
    "df.head()"
   ]
  },
  {
   "cell_type": "code",
   "execution_count": 300,
   "id": "abe07be4-f3b6-45d3-94c8-5b9f6f6abb2d",
   "metadata": {},
   "outputs": [
    {
     "name": "stdout",
     "output_type": "stream",
     "text": [
      "Orijinal veri dağılımı: Counter({0.0: 494, 1.0: 267})\n",
      "SMOTE sonrası veri dağılımı: Counter({1.0: 494, 0.0: 494})\n"
     ]
    },
    {
     "data": {
      "text/html": [
       "<div>\n",
       "<style scoped>\n",
       "    .dataframe tbody tr th:only-of-type {\n",
       "        vertical-align: middle;\n",
       "    }\n",
       "\n",
       "    .dataframe tbody tr th {\n",
       "        vertical-align: top;\n",
       "    }\n",
       "\n",
       "    .dataframe thead th {\n",
       "        text-align: right;\n",
       "    }\n",
       "</style>\n",
       "<table border=\"1\" class=\"dataframe\">\n",
       "  <thead>\n",
       "    <tr style=\"text-align: right;\">\n",
       "      <th></th>\n",
       "      <th>Pregnancies</th>\n",
       "      <th>Glucose</th>\n",
       "      <th>BloodPressure</th>\n",
       "      <th>SkinThickness</th>\n",
       "      <th>Insulin</th>\n",
       "      <th>BMI</th>\n",
       "      <th>DiabetesPedigreeFunction</th>\n",
       "      <th>Age</th>\n",
       "      <th>NEW_BMI*Insulin</th>\n",
       "      <th>Outcome</th>\n",
       "    </tr>\n",
       "  </thead>\n",
       "  <tbody>\n",
       "    <tr>\n",
       "      <th>0</th>\n",
       "      <td>6.00</td>\n",
       "      <td>148.00</td>\n",
       "      <td>72.00</td>\n",
       "      <td>35.00</td>\n",
       "      <td>334.20</td>\n",
       "      <td>33.60</td>\n",
       "      <td>0.63</td>\n",
       "      <td>50.00</td>\n",
       "      <td>11229.12</td>\n",
       "      <td>1.00</td>\n",
       "    </tr>\n",
       "    <tr>\n",
       "      <th>1</th>\n",
       "      <td>1.00</td>\n",
       "      <td>85.00</td>\n",
       "      <td>66.00</td>\n",
       "      <td>29.00</td>\n",
       "      <td>56.20</td>\n",
       "      <td>26.60</td>\n",
       "      <td>0.35</td>\n",
       "      <td>31.00</td>\n",
       "      <td>1494.92</td>\n",
       "      <td>0.00</td>\n",
       "    </tr>\n",
       "    <tr>\n",
       "      <th>2</th>\n",
       "      <td>8.00</td>\n",
       "      <td>183.00</td>\n",
       "      <td>64.00</td>\n",
       "      <td>32.20</td>\n",
       "      <td>238.00</td>\n",
       "      <td>23.30</td>\n",
       "      <td>0.67</td>\n",
       "      <td>32.00</td>\n",
       "      <td>5545.40</td>\n",
       "      <td>1.00</td>\n",
       "    </tr>\n",
       "    <tr>\n",
       "      <th>3</th>\n",
       "      <td>1.00</td>\n",
       "      <td>89.00</td>\n",
       "      <td>66.00</td>\n",
       "      <td>23.00</td>\n",
       "      <td>94.00</td>\n",
       "      <td>28.10</td>\n",
       "      <td>0.17</td>\n",
       "      <td>21.00</td>\n",
       "      <td>2641.40</td>\n",
       "      <td>0.00</td>\n",
       "    </tr>\n",
       "    <tr>\n",
       "      <th>4</th>\n",
       "      <td>0.00</td>\n",
       "      <td>137.00</td>\n",
       "      <td>40.00</td>\n",
       "      <td>35.00</td>\n",
       "      <td>168.00</td>\n",
       "      <td>43.10</td>\n",
       "      <td>1.21</td>\n",
       "      <td>33.00</td>\n",
       "      <td>7240.80</td>\n",
       "      <td>1.00</td>\n",
       "    </tr>\n",
       "  </tbody>\n",
       "</table>\n",
       "</div>"
      ],
      "text/plain": [
       "   Pregnancies  Glucose  BloodPressure  SkinThickness  Insulin   BMI  DiabetesPedigreeFunction   Age  NEW_BMI*Insulin  Outcome\n",
       "0         6.00   148.00          72.00          35.00   334.20 33.60                      0.63 50.00         11229.12     1.00\n",
       "1         1.00    85.00          66.00          29.00    56.20 26.60                      0.35 31.00          1494.92     0.00\n",
       "2         8.00   183.00          64.00          32.20   238.00 23.30                      0.67 32.00          5545.40     1.00\n",
       "3         1.00    89.00          66.00          23.00    94.00 28.10                      0.17 21.00          2641.40     0.00\n",
       "4         0.00   137.00          40.00          35.00   168.00 43.10                      1.21 33.00          7240.80     1.00"
      ]
     },
     "execution_count": 300,
     "metadata": {},
     "output_type": "execute_result"
    }
   ],
   "source": [
    "from imblearn.over_sampling import SMOTE\n",
    "from collections import Counter\n",
    "\n",
    "# 1. Özellikleri (X) ve hedef değişkeni (y) ayır\n",
    "A = df.drop(\"Outcome\", axis=1)\n",
    "B = df[\"Outcome\"]\n",
    "\n",
    "# 2. SMOTE nesnesini oluştur\n",
    "smote = SMOTE(random_state=42)\n",
    "\n",
    "# 3. SMOTE uygulayarak veriyi dengele\n",
    "X_resampled, y_resampled = smote.fit_resample(A, B)\n",
    "\n",
    "# 4. Yeni dengelenmiş veri çerçevesini oluştur\n",
    "df_resampled = pd.concat([pd.DataFrame(X_resampled, columns=A.columns),\n",
    "                           pd.DataFrame(y_resampled, columns=[\"Outcome\"])], axis=1)\n",
    "\n",
    "# 5. Sınıf dağılımını kontrol et\n",
    "print(\"Orijinal veri dağılımı:\", Counter(B))\n",
    "print(\"SMOTE sonrası veri dağılımı:\", Counter(y_resampled))\n",
    "\n",
    "# İlk birkaç satırı göster\n",
    "df_resampled.head()"
   ]
  },
  {
   "cell_type": "code",
   "execution_count": 302,
   "id": "1340e5b4-1422-444b-9347-666db3e77b83",
   "metadata": {},
   "outputs": [
    {
     "name": "stdout",
     "output_type": "stream",
     "text": [
      "X_train:  (790, 9)\n",
      "y_train:  (790,)\n",
      "X_test:  (198, 9)\n",
      "y_test:  (198,)\n"
     ]
    }
   ],
   "source": [
    "X = df_resampled.drop('Outcome', axis=1)\n",
    "y = df_resampled['Outcome']\n",
    "\n",
    "\n",
    "X_train, X_test, y_train, y_test = train_test_split(X, y, test_size=0.2, random_state=42)\n",
    "print (\"X_train: \", X_train.shape)\n",
    "print (\"y_train: \", y_train.shape)\n",
    "print(\"X_test: \", X_test.shape),\n",
    "print (\"y_test: \", y_test.shape)"
   ]
  },
  {
   "cell_type": "code",
   "execution_count": 304,
   "id": "cd2fc2c8-488b-4505-bf29-246454446be0",
   "metadata": {},
   "outputs": [
    {
     "data": {
      "application/vnd.jupyter.widget-view+json": {
       "model_id": "a22e265cf979433599c197dbd9362aad",
       "version_major": 2,
       "version_minor": 0
      },
      "text/plain": [
       "  0%|          | 0/29 [00:00<?, ?it/s]"
      ]
     },
     "metadata": {},
     "output_type": "display_data"
    },
    {
     "name": "stdout",
     "output_type": "stream",
     "text": [
      "                               Accuracy  Balanced Accuracy  ROC AUC  F1 Score  recall  Time Taken\n",
      "Model                                                                                            \n",
      "LGBMClassifier                     0.86               0.86     0.86      0.86    0.87        0.04\n",
      "SVC                                0.85               0.85     0.85      0.85    0.82        0.02\n",
      "NuSVC                              0.85               0.85     0.85      0.85    0.84        0.02\n",
      "LabelSpreading                     0.84               0.84     0.84      0.84    0.86        0.02\n",
      "LabelPropagation                   0.84               0.84     0.84      0.84    0.86        0.02\n",
      "ExtraTreesClassifier               0.84               0.84     0.84      0.84    0.84        0.06\n",
      "XGBClassifier                      0.83               0.83     0.83      0.83    0.86        0.04\n",
      "RandomForestClassifier             0.83               0.83     0.83      0.83    0.84        0.15\n",
      "KNeighborsClassifier               0.82               0.82     0.82      0.82    0.81        0.01\n",
      "AdaBoostClassifier                 0.81               0.81     0.81      0.81    0.80        0.07\n",
      "DecisionTreeClassifier             0.80               0.80     0.80      0.80    0.78        0.01\n",
      "BaggingClassifier                  0.80               0.80     0.80      0.80    0.74        0.03\n",
      "ExtraTreeClassifier                0.77               0.77     0.77      0.77    0.76        0.00\n",
      "LinearSVC                          0.76               0.76     0.76      0.76    0.72        0.03\n",
      "RidgeClassifier                    0.76               0.76     0.76      0.76    0.72        0.00\n",
      "LinearDiscriminantAnalysis         0.76               0.76     0.76      0.76    0.72        0.00\n",
      "LogisticRegression                 0.76               0.76     0.76      0.76    0.72        0.00\n",
      "RidgeClassifierCV                  0.76               0.76     0.76      0.76    0.72        0.00\n",
      "CalibratedClassifierCV             0.75               0.75     0.75      0.75    0.72        0.01\n",
      "QuadraticDiscriminantAnalysis      0.75               0.75     0.75      0.75    0.67        0.01\n",
      "SGDClassifier                      0.72               0.72     0.72      0.72    0.71        0.01\n",
      "GaussianNB                         0.72               0.72     0.72      0.71    0.63        0.00\n",
      "NearestCentroid                    0.71               0.71     0.71      0.70    0.62        0.00\n",
      "BernoulliNB                        0.69               0.69     0.69      0.69    0.62        0.00\n",
      "Perceptron                         0.68               0.67     0.67      0.67    0.53        0.00\n",
      "DummyClassifier                    0.49               0.50     0.50      0.32    1.00        0.00\n",
      "PassiveAggressiveClassifier        0.46               0.47     0.47      0.44    0.66        0.01\n"
     ]
    }
   ],
   "source": [
    "from lazypredict.Supervised import LazyClassifier\n",
    "from sklearn.metrics import recall_score\n",
    "\n",
    "# Recall metriği için özel fonksiyon\n",
    "def recall(y_true, y_pred):\n",
    "    return recall_score(y_true, y_pred)\n",
    "\n",
    "# LazyClassifier recall'u da ölçsün\n",
    "clf = LazyClassifier(ignore_warnings=True, custom_metric=recall)\n",
    "models, predictions = clf.fit(X_train, X_test, y_train, y_test)\n",
    "\n",
    "\n",
    "print(models)\n",
    "model = LGBMClassifier(verbosity=-1, verbose=-1)"
   ]
  },
  {
   "cell_type": "code",
   "execution_count": 306,
   "id": "e1c7acd3-8d75-4829-b7f1-82dd897167e8",
   "metadata": {},
   "outputs": [
    {
     "name": "stdout",
     "output_type": "stream",
     "text": [
      "🌲 ExtraTreesClassifier Classification Report:\n",
      "              precision    recall  f1-score   support\n",
      "\n",
      "         0.0       0.84      0.84      0.84       101\n",
      "         1.0       0.84      0.84      0.84        97\n",
      "\n",
      "    accuracy                           0.84       198\n",
      "   macro avg       0.84      0.84      0.84       198\n",
      "weighted avg       0.84      0.84      0.84       198\n",
      "\n"
     ]
    },
    {
     "data": {
      "image/png": "[encoded data removed]",
      "text/plain": [
       "<Figure size 640x480 with 2 Axes>"
      ]
     },
     "metadata": {},
     "output_type": "display_data"
    }
   ],
   "source": [
    "from sklearn.ensemble import ExtraTreesClassifier\n",
    "from sklearn.metrics import classification_report, ConfusionMatrixDisplay\n",
    "import matplotlib.pyplot as plt\n",
    "\n",
    "# Modeli tanımla ve eğit\n",
    "et_model = ExtraTreesClassifier(random_state=42)\n",
    "et_model.fit(X_train, y_train)\n",
    "\n",
    "# Tahmin yap\n",
    "y_pred_et = et_model.predict(X_test)\n",
    "\n",
    "# Sınıflandırma raporu\n",
    "print(\"🌲 ExtraTreesClassifier Classification Report:\")\n",
    "print(classification_report(y_test, y_pred_et, digits=2))\n",
    "\n",
    "# Confusion Matrix\n",
    "ConfusionMatrixDisplay.from_predictions(y_test, y_pred_et, cmap=\"Blues\", values_format=\"d\")\n",
    "plt.title(\"ExtraTreesClassifier Confusion Matrix\")\n",
    "plt.show()"
   ]
  },
  {
   "cell_type": "code",
   "execution_count": 308,
   "id": "3e928faf-4145-4e2a-aabc-26d0069c5953",
   "metadata": {},
   "outputs": [
    {
     "name": "stdout",
     "output_type": "stream",
     "text": [
      "accuracy score test : 0.8383838383838383\n",
      "accuracy score train: 1.0\n"
     ]
    }
   ],
   "source": [
    "from sklearn.metrics import classification_report\n",
    "rand_score_test=et_model.score(X_test, y_test)\n",
    "rand_score_train=et_model.score(X_train, y_train)\n",
    "\n",
    "\n",
    "print(\"accuracy score test :\",rand_score_test)\n",
    "print(\"accuracy score train:\",rand_score_train)"
   ]
  },
  {
   "cell_type": "code",
   "execution_count": 364,
   "id": "7f0ddc8b-7bda-43dd-9a77-21691bf9de6a",
   "metadata": {},
   "outputs": [
    {
     "name": "stdout",
     "output_type": "stream",
     "text": [
      "🌳 RandomForestClassifier Classification Report:\n",
      "              precision    recall  f1-score   support\n",
      "\n",
      "         0.0       0.84      0.82      0.83       101\n",
      "         1.0       0.82      0.84      0.83        97\n",
      "\n",
      "    accuracy                           0.83       198\n",
      "   macro avg       0.83      0.83      0.83       198\n",
      "weighted avg       0.83      0.83      0.83       198\n",
      "\n"
     ]
    },
    {
     "data": {
      "image/png": "[encoded data removed]",
      "text/plain": [
       "<Figure size 640x480 with 2 Axes>"
      ]
     },
     "metadata": {},
     "output_type": "display_data"
    }
   ],
   "source": [
    "from sklearn.ensemble import RandomForestClassifier\n",
    "from sklearn.metrics import classification_report, ConfusionMatrixDisplay\n",
    "import matplotlib.pyplot as plt\n",
    "\n",
    "# 1. RandomForestClassifier modelini oluştur\n",
    "rf_model = RandomForestClassifier(random_state=42)\n",
    "\n",
    "# 2. Modeli eğitim verisiyle eğit\n",
    "rf_model.fit(X_train, y_train)\n",
    "y_pred_train = rf_model.predict(X_train)\n",
    "\n",
    "# 3. Test verisi ile tahmin yap\n",
    "y_pred_rf = rf_model.predict(X_test)\n",
    "\n",
    "# 4. Sınıflandırma raporunu yazdır\n",
    "print(\"🌳 RandomForestClassifier Classification Report:\")\n",
    "print(classification_report(y_test, y_pred_rf, digits=2))\n",
    "\n",
    "# 5. Confusion Matrix'i çiz\n",
    "ConfusionMatrixDisplay.from_predictions(\n",
    "    y_test, y_pred_rf, cmap=\"Blues\", values_format=\"d\"\n",
    ")\n",
    "plt.title(\"RandomForestClassifier Confusion Matrix\")\n",
    "plt.show()"
   ]
  },
  {
   "cell_type": "code",
   "execution_count": 312,
   "id": "d21fc0d9-bfff-4a07-8666-112e8cb7e71d",
   "metadata": {},
   "outputs": [
    {
     "data": {
      "image/png": "[encoded data removed]",
      "text/plain": [
       "<Figure size 1000x600 with 1 Axes>"
      ]
     },
     "metadata": {},
     "output_type": "display_data"
    }
   ],
   "source": [
    "pd.Series(rf_model.feature_importances_, index=X.columns).sort_values(ascending=False).plot(kind=\"barh\", figsize=(10,6))\n",
    "plt.title(\"Feature Importances (Random Forest)\")\n",
    "plt.show()"
   ]
  },
  {
   "cell_type": "code",
   "execution_count": 314,
   "id": "df21b75e-5bab-4e72-bd1e-a3c18bb6a2ae",
   "metadata": {},
   "outputs": [
    {
     "name": "stdout",
     "output_type": "stream",
     "text": [
      "accuracy score test : 0.8282828282828283\n",
      "accuracy score train: 1.0\n"
     ]
    }
   ],
   "source": [
    "from sklearn.metrics import classification_report\n",
    "rand_score_test=rf_model.score(X_test, y_test)\n",
    "rand_score_train=rf_model.score(X_train, y_train)\n",
    "\n",
    "\n",
    "print(\"accuracy score test :\",rand_score_test)\n",
    "print(\"accuracy score train:\",rand_score_train)"
   ]
  },
  {
   "cell_type": "code",
   "execution_count": 316,
   "id": "b1f1cbe5-7a6f-41d1-928d-6c566824ed13",
   "metadata": {},
   "outputs": [
    {
     "name": "stdout",
     "output_type": "stream",
     "text": [
      "Recall (Test): 0.8350515463917526\n",
      "Recall (Train): 1.0\n"
     ]
    }
   ],
   "source": [
    "from sklearn.metrics import recall_score\n",
    "\n",
    "# Eğitim ve test verisi için tahminler\n",
    "y_pred_rf = rf_model.predict(X_test)\n",
    "y_pred_train = rf_model.predict(X_train)\n",
    "\n",
    "# Recall skorlarını hesapla (ikili sınıflandırma varsayılarak)\n",
    "recall_test = recall_score(y_test, y_pred_rf)\n",
    "recall_train = recall_score(y_train, y_pred_train)\n",
    "\n",
    "print(\"Recall (Test):\", recall_test)\n",
    "print(\"Recall (Train):\", recall_train)"
   ]
  },
  {
   "cell_type": "code",
   "execution_count": 318,
   "id": "ddc43170-01f1-478c-b785-228bb37dd2d5",
   "metadata": {},
   "outputs": [
    {
     "name": "stdout",
     "output_type": "stream",
     "text": [
      "İlk karar ağacının derinliği: 15\n"
     ]
    }
   ],
   "source": [
    "# İlk ağacın derinliğini göster\n",
    "print(\"İlk karar ağacının derinliği:\", rf_model.estimators_[0].get_depth())"
   ]
  },
  {
   "cell_type": "code",
   "execution_count": 320,
   "id": "eb8dc55f-9fbb-4991-9794-c95b1758528b",
   "metadata": {},
   "outputs": [
    {
     "name": "stdout",
     "output_type": "stream",
     "text": [
      "Ortalama derinlik: 14.39\n"
     ]
    }
   ],
   "source": [
    "depths = [est.get_depth() for est in rf_model.estimators_]\n",
    "print(\"Ortalama derinlik:\", sum(depths)/len(depths))"
   ]
  },
  {
   "cell_type": "code",
   "execution_count": 322,
   "id": "8cc5cb10-1062-467e-831b-995c6ab487b9",
   "metadata": {},
   "outputs": [
    {
     "name": "stdout",
     "output_type": "stream",
     "text": [
      "🌳 RandomForestClassifier Classification Report:\n",
      "              precision    recall  f1-score   support\n",
      "\n",
      "         0.0       0.83      0.77      0.80       101\n",
      "         1.0       0.78      0.84      0.81        97\n",
      "\n",
      "    accuracy                           0.80       198\n",
      "   macro avg       0.80      0.80      0.80       198\n",
      "weighted avg       0.80      0.80      0.80       198\n",
      "\n"
     ]
    },
    {
     "data": {
      "image/png": "[encoded data removed]",
      "text/plain": [
       "<Figure size 640x480 with 2 Axes>"
      ]
     },
     "metadata": {},
     "output_type": "display_data"
    }
   ],
   "source": [
    "from sklearn.ensemble import RandomForestClassifier\n",
    "from sklearn.metrics import classification_report, ConfusionMatrixDisplay\n",
    "import matplotlib.pyplot as plt\n",
    "\n",
    "# 1. RandomForestClassifier modelini oluştur max depth 5\n",
    "rf_model = RandomForestClassifier( max_depth=5, random_state=42)\n",
    "\n",
    "# 2. Modeli eğitim verisiyle eğit\n",
    "rf_model.fit(X_train, y_train)\n",
    "y_pred_train = rf_model.predict(X_train)\n",
    "\n",
    "# 3. Test verisi ile tahmin yap\n",
    "y_pred_rf = rf_model.predict(X_test)\n",
    "\n",
    "# 4. Sınıflandırma raporunu yazdır\n",
    "print(\"🌳 RandomForestClassifier Classification Report:\")\n",
    "print(classification_report(y_test, y_pred_rf, digits=2))\n",
    "\n",
    "# 5. Confusion Matrix'i çiz\n",
    "ConfusionMatrixDisplay.from_predictions(\n",
    "    y_test, y_pred_rf, cmap=\"Blues\", values_format=\"d\"\n",
    ")\n",
    "plt.title(\"RandomForestClassifier Confusion Matrix\")\n",
    "plt.show()"
   ]
  },
  {
   "cell_type": "code",
   "execution_count": 324,
   "id": "370c6195-db31-40c4-a7a3-48dec2a73da3",
   "metadata": {},
   "outputs": [
    {
     "data": {
      "application/vnd.plotly.v1+json": {
       "config": {
        "plotlyServerURL": "https://plot.ly"
       },
       "data": [
        {
         "alignmentgroup": "True",
         "hovertemplate": "Importance=%{marker.color}<br>Feature=%{y}<extra></extra>",
         "legendgroup": "",
         "marker": {
          "color": [
           0.24352237111560682,
           0.20242758764564245,
           0.202122405316736,
           0.10728029723504026,
           0.08584132154274464,
           0.06660339908614521,
           0.03709171857603851,
           0.030960151870396496,
           0.024150747611649738
          ],
          "coloraxis": "coloraxis",
          "pattern": {
           "shape": ""
          }
         },
         "name": "",
         "offsetgroup": "",
         "orientation": "h",
         "showlegend": false,
         "textposition": "auto",
         "type": "bar",
         "x": [
          0.24352237111560682,
          0.20242758764564245,
          0.202122405316736,
          0.10728029723504026,
          0.08584132154274464,
          0.06660339908614521,
          0.03709171857603851,
          0.030960151870396496,
          0.024150747611649738
         ],
         "xaxis": "x",
         "y": [
          "NEW_BMI*Insulin",
          "Insulin",
          "Glucose",
          "Age",
          "BMI",
          "SkinThickness",
          "DiabetesPedigreeFunction",
          "Pregnancies",
          "BloodPressure"
         ],
         "yaxis": "y"
        }
       ],
       "layout": {
        "autosize": true,
        "barmode": "relative",
        "coloraxis": {
         "colorbar": {
          "title": {
           "text": "Importance"
          }
         },
         "colorscale": [
          [
           0,
           "rgb(247,251,255)"
          ],
          [
           0.125,
           "rgb(222,235,247)"
          ],
          [
           0.25,
           "rgb(198,219,239)"
          ],
          [
           0.375,
           "rgb(158,202,225)"
          ],
          [
           0.5,
           "rgb(107,174,214)"
          ],
          [
           0.625,
           "rgb(66,146,198)"
          ],
          [
           0.75,
           "rgb(33,113,181)"
          ],
          [
           0.875,
           "rgb(8,81,156)"
          ],
          [
           1,
           "rgb(8,48,107)"
          ]
         ]
        },
        "legend": {
         "tracegroupgap": 0
        },
        "template": {
         "data": {
          "bar": [
           {
            "error_x": {
             "color": "#2a3f5f"
            },
            "error_y": {
             "color": "#2a3f5f"
            },
            "marker": {
             "line": {
              "color": "#E5ECF6",
              "width": 0.5
             },
             "pattern": {
              "fillmode": "overlay",
              "size": 10,
              "solidity": 0.2
             }
            },
            "type": "bar"
           }
          ],
          "barpolar": [
           {
            "marker": {
             "line": {
              "color": "#E5ECF6",
              "width": 0.5
             },
             "pattern": {
              "fillmode": "overlay",
              "size": 10,
              "solidity": 0.2
             }
            },
            "type": "barpolar"
           }
          ],
          "carpet": [
           {
            "aaxis": {
             "endlinecolor": "#2a3f5f",
             "gridcolor": "white",
             "linecolor": "white",
             "minorgridcolor": "white",
             "startlinecolor": "#2a3f5f"
            },
            "baxis": {
             "endlinecolor": "#2a3f5f",
             "gridcolor": "white",
             "linecolor": "white",
             "minorgridcolor": "white",
             "startlinecolor": "#2a3f5f"
            },
            "type": "carpet"
           }
          ],
          "choropleth": [
           {
            "colorbar": {
             "outlinewidth": 0,
             "ticks": ""
            },
            "type": "choropleth"
           }
          ],
          "contour": [
           {
            "colorbar": {
             "outlinewidth": 0,
             "ticks": ""
            },
            "colorscale": [
             [
              0,
              "#0d0887"
             ],
             [
              0.1111111111111111,
              "#46039f"
             ],
             [
              0.2222222222222222,
              "#7201a8"
             ],
             [
              0.3333333333333333,
              "#9c179e"
             ],
             [
              0.4444444444444444,
              "#bd3786"
             ],
             [
              0.5555555555555556,
              "#d8576b"
             ],
             [
              0.6666666666666666,
              "#ed7953"
             ],
             [
              0.7777777777777778,
              "#fb9f3a"
             ],
             [
              0.8888888888888888,
              "#fdca26"
             ],
             [
              1,
              "#f0f921"
             ]
            ],
            "type": "contour"
           }
          ],
          "contourcarpet": [
           {
            "colorbar": {
             "outlinewidth": 0,
             "ticks": ""
            },
            "type": "contourcarpet"
           }
          ],
          "heatmap": [
           {
            "colorbar": {
             "outlinewidth": 0,
             "ticks": ""
            },
            "colorscale": [
             [
              0,
              "#0d0887"
             ],
             [
              0.1111111111111111,
              "#46039f"
             ],
             [
              0.2222222222222222,
              "#7201a8"
             ],
             [
              0.3333333333333333,
              "#9c179e"
             ],
             [
              0.4444444444444444,
              "#bd3786"
             ],
             [
              0.5555555555555556,
              "#d8576b"
             ],
             [
              0.6666666666666666,
              "#ed7953"
             ],
             [
              0.7777777777777778,
              "#fb9f3a"
             ],
             [
              0.8888888888888888,
              "#fdca26"
             ],
             [
              1,
              "#f0f921"
             ]
            ],
            "type": "heatmap"
           }
          ],
          "heatmapgl": [
           {
            "colorbar": {
             "outlinewidth": 0,
             "ticks": ""
            },
            "colorscale": [
             [
              0,
              "#0d0887"
             ],
             [
              0.1111111111111111,
              "#46039f"
             ],
             [
              0.2222222222222222,
              "#7201a8"
             ],
             [
              0.3333333333333333,
              "#9c179e"
             ],
             [
              0.4444444444444444,
              "#bd3786"
             ],
             [
              0.5555555555555556,
              "#d8576b"
             ],
             [
              0.6666666666666666,
              "#ed7953"
             ],
             [
              0.7777777777777778,
              "#fb9f3a"
             ],
             [
              0.8888888888888888,
              "#fdca26"
             ],
             [
              1,
              "#f0f921"
             ]
            ],
            "type": "heatmapgl"
           }
          ],
          "histogram": [
           {
            "marker": {
             "pattern": {
              "fillmode": "overlay",
              "size": 10,
              "solidity": 0.2
             }
            },
            "type": "histogram"
           }
          ],
          "histogram2d": [
           {
            "colorbar": {
             "outlinewidth": 0,
             "ticks": ""
            },
            "colorscale": [
             [
              0,
              "#0d0887"
             ],
             [
              0.1111111111111111,
              "#46039f"
             ],
             [
              0.2222222222222222,
              "#7201a8"
             ],
             [
              0.3333333333333333,
              "#9c179e"
             ],
             [
              0.4444444444444444,
              "#bd3786"
             ],
             [
              0.5555555555555556,
              "#d8576b"
             ],
             [
              0.6666666666666666,
              "#ed7953"
             ],
             [
              0.7777777777777778,
              "#fb9f3a"
             ],
             [
              0.8888888888888888,
              "#fdca26"
             ],
             [
              1,
              "#f0f921"
             ]
            ],
            "type": "histogram2d"
           }
          ],
          "histogram2dcontour": [
           {
            "colorbar": {
             "outlinewidth": 0,
             "ticks": ""
            },
            "colorscale": [
             [
              0,
              "#0d0887"
             ],
             [
              0.1111111111111111,
              "#46039f"
             ],
             [
              0.2222222222222222,
              "#7201a8"
             ],
             [
              0.3333333333333333,
              "#9c179e"
             ],
             [
              0.4444444444444444,
              "#bd3786"
             ],
             [
              0.5555555555555556,
              "#d8576b"
             ],
             [
              0.6666666666666666,
              "#ed7953"
             ],
             [
              0.7777777777777778,
              "#fb9f3a"
             ],
             [
              0.8888888888888888,
              "#fdca26"
             ],
             [
              1,
              "#f0f921"
             ]
            ],
            "type": "histogram2dcontour"
           }
          ],
          "mesh3d": [
           {
            "colorbar": {
             "outlinewidth": 0,
             "ticks": ""
            },
            "type": "mesh3d"
           }
          ],
          "parcoords": [
           {
            "line": {
             "colorbar": {
              "outlinewidth": 0,
              "ticks": ""
             }
            },
            "type": "parcoords"
           }
          ],
          "pie": [
           {
            "automargin": true,
            "type": "pie"
           }
          ],
          "scatter": [
           {
            "fillpattern": {
             "fillmode": "overlay",
             "size": 10,
             "solidity": 0.2
            },
            "type": "scatter"
           }
          ],
          "scatter3d": [
           {
            "line": {
             "colorbar": {
              "outlinewidth": 0,
              "ticks": ""
             }
            },
            "marker": {
             "colorbar": {
              "outlinewidth": 0,
              "ticks": ""
             }
            },
            "type": "scatter3d"
           }
          ],
          "scattercarpet": [
           {
            "marker": {
             "colorbar": {
              "outlinewidth": 0,
              "ticks": ""
             }
            },
            "type": "scattercarpet"
           }
          ],
          "scattergeo": [
           {
            "marker": {
             "colorbar": {
              "outlinewidth": 0,
              "ticks": ""
             }
            },
            "type": "scattergeo"
           }
          ],
          "scattergl": [
           {
            "marker": {
             "colorbar": {
              "outlinewidth": 0,
              "ticks": ""
             }
            },
            "type": "scattergl"
           }
          ],
          "scattermapbox": [
           {
            "marker": {
             "colorbar": {
              "outlinewidth": 0,
              "ticks": ""
             }
            },
            "type": "scattermapbox"
           }
          ],
          "scatterpolar": [
           {
            "marker": {
             "colorbar": {
              "outlinewidth": 0,
              "ticks": ""
             }
            },
            "type": "scatterpolar"
           }
          ],
          "scatterpolargl": [
           {
            "marker": {
             "colorbar": {
              "outlinewidth": 0,
              "ticks": ""
             }
            },
            "type": "scatterpolargl"
           }
          ],
          "scatterternary": [
           {
            "marker": {
             "colorbar": {
              "outlinewidth": 0,
              "ticks": ""
             }
            },
            "type": "scatterternary"
           }
          ],
          "surface": [
           {
            "colorbar": {
             "outlinewidth": 0,
             "ticks": ""
            },
            "colorscale": [
             [
              0,
              "#0d0887"
             ],
             [
              0.1111111111111111,
              "#46039f"
             ],
             [
              0.2222222222222222,
              "#7201a8"
             ],
             [
              0.3333333333333333,
              "#9c179e"
             ],
             [
              0.4444444444444444,
              "#bd3786"
             ],
             [
              0.5555555555555556,
              "#d8576b"
             ],
             [
              0.6666666666666666,
              "#ed7953"
             ],
             [
              0.7777777777777778,
              "#fb9f3a"
             ],
             [
              0.8888888888888888,
              "#fdca26"
             ],
             [
              1,
              "#f0f921"
             ]
            ],
            "type": "surface"
           }
          ],
          "table": [
           {
            "cells": {
             "fill": {
              "color": "#EBF0F8"
             },
             "line": {
              "color": "white"
             }
            },
            "header": {
             "fill": {
              "color": "#C8D4E3"
             },
             "line": {
              "color": "white"
             }
            },
            "type": "table"
           }
          ]
         },
         "layout": {
          "annotationdefaults": {
           "arrowcolor": "#2a3f5f",
           "arrowhead": 0,
           "arrowwidth": 1
          },
          "autotypenumbers": "strict",
          "coloraxis": {
           "colorbar": {
            "outlinewidth": 0,
            "ticks": ""
           }
          },
          "colorscale": {
           "diverging": [
            [
             0,
             "#8e0152"
            ],
            [
             0.1,
             "#c51b7d"
            ],
            [
             0.2,
             "#de77ae"
            ],
            [
             0.3,
             "#f1b6da"
            ],
            [
             0.4,
             "#fde0ef"
            ],
            [
             0.5,
             "#f7f7f7"
            ],
            [
             0.6,
             "#e6f5d0"
            ],
            [
             0.7,
             "#b8e186"
            ],
            [
             0.8,
             "#7fbc41"
            ],
            [
             0.9,
             "#4d9221"
            ],
            [
             1,
             "#276419"
            ]
           ],
           "sequential": [
            [
             0,
             "#0d0887"
            ],
            [
             0.1111111111111111,
             "#46039f"
            ],
            [
             0.2222222222222222,
             "#7201a8"
            ],
            [
             0.3333333333333333,
             "#9c179e"
            ],
            [
             0.4444444444444444,
             "#bd3786"
            ],
            [
             0.5555555555555556,
             "#d8576b"
            ],
            [
             0.6666666666666666,
             "#ed7953"
            ],
            [
             0.7777777777777778,
             "#fb9f3a"
            ],
            [
             0.8888888888888888,
             "#fdca26"
            ],
            [
             1,
             "#f0f921"
            ]
           ],
           "sequentialminus": [
            [
             0,
             "#0d0887"
            ],
            [
             0.1111111111111111,
             "#46039f"
            ],
            [
             0.2222222222222222,
             "#7201a8"
            ],
            [
             0.3333333333333333,
             "#9c179e"
            ],
            [
             0.4444444444444444,
             "#bd3786"
            ],
            [
             0.5555555555555556,
             "#d8576b"
            ],
            [
             0.6666666666666666,
             "#ed7953"
            ],
            [
             0.7777777777777778,
             "#fb9f3a"
            ],
            [
             0.8888888888888888,
             "#fdca26"
            ],
            [
             1,
             "#f0f921"
            ]
           ]
          },
          "colorway": [
           "#636efa",
           "#EF553B",
           "#00cc96",
           "#ab63fa",
           "#FFA15A",
           "#19d3f3",
           "#FF6692",
           "#B6E880",
           "#FF97FF",
           "#FECB52"
          ],
          "font": {
           "color": "#2a3f5f"
          },
          "geo": {
           "bgcolor": "white",
           "lakecolor": "white",
           "landcolor": "#E5ECF6",
           "showlakes": true,
           "showland": true,
           "subunitcolor": "white"
          },
          "hoverlabel": {
           "align": "left"
          },
          "hovermode": "closest",
          "mapbox": {
           "style": "light"
          },
          "paper_bgcolor": "white",
          "plot_bgcolor": "#E5ECF6",
          "polar": {
           "angularaxis": {
            "gridcolor": "white",
            "linecolor": "white",
            "ticks": ""
           },
           "bgcolor": "#E5ECF6",
           "radialaxis": {
            "gridcolor": "white",
            "linecolor": "white",
            "ticks": ""
           }
          },
          "scene": {
           "xaxis": {
            "backgroundcolor": "#E5ECF6",
            "gridcolor": "white",
            "gridwidth": 2,
            "linecolor": "white",
            "showbackground": true,
            "ticks": "",
            "zerolinecolor": "white"
           },
           "yaxis": {
            "backgroundcolor": "#E5ECF6",
            "gridcolor": "white",
            "gridwidth": 2,
            "linecolor": "white",
            "showbackground": true,
            "ticks": "",
            "zerolinecolor": "white"
           },
           "zaxis": {
            "backgroundcolor": "#E5ECF6",
            "gridcolor": "white",
            "gridwidth": 2,
            "linecolor": "white",
            "showbackground": true,
            "ticks": "",
            "zerolinecolor": "white"
           }
          },
          "shapedefaults": {
           "line": {
            "color": "#2a3f5f"
           }
          },
          "ternary": {
           "aaxis": {
            "gridcolor": "white",
            "linecolor": "white",
            "ticks": ""
           },
           "baxis": {
            "gridcolor": "white",
            "linecolor": "white",
            "ticks": ""
           },
           "bgcolor": "#E5ECF6",
           "caxis": {
            "gridcolor": "white",
            "linecolor": "white",
            "ticks": ""
           }
          },
          "title": {
           "x": 0.05
          },
          "xaxis": {
           "automargin": true,
           "gridcolor": "white",
           "linecolor": "white",
           "ticks": "",
           "title": {
            "standoff": 15
           },
           "zerolinecolor": "white",
           "zerolinewidth": 2
          },
          "yaxis": {
           "automargin": true,
           "gridcolor": "white",
           "linecolor": "white",
           "ticks": "",
           "title": {
            "standoff": 15
           },
           "zerolinecolor": "white",
           "zerolinewidth": 2
          }
         }
        },
        "title": {
         "text": "🌟 Feature Importances (Random Forest)"
        },
        "xaxis": {
         "anchor": "y",
         "autorange": true,
         "domain": [
          0,
          1
         ],
         "range": [
          0,
          0.2563393380164282
         ],
         "title": {
          "text": "Importance"
         },
         "type": "linear"
        },
        "yaxis": {
         "anchor": "x",
         "autorange": true,
         "categoryorder": "total ascending",
         "domain": [
          0,
          1
         ],
         "range": [
          -0.5,
          8.5
         ],
         "title": {
          "text": "Feature"
         },
         "type": "category"
        }
       }
      },
      "image/png": "[encoded data removed]",
      "text/html": [
       "<div>                            <div id=\"4c0fbb12-e2a2-48f5-9293-9aea3292cd32\" class=\"plotly-graph-div\" style=\"height:525px; width:100%;\"></div>            <script type=\"text/javascript\">                require([\"plotly\"], function(Plotly) {                    window.PLOTLYENV=window.PLOTLYENV || {};                                    if (document.getElementById(\"4c0fbb12-e2a2-48f5-9293-9aea3292cd32\")) {                    Plotly.newPlot(                        \"4c0fbb12-e2a2-48f5-9293-9aea3292cd32\",                        [{\"alignmentgroup\":\"True\",\"hovertemplate\":\"Importance=%{marker.color}<br>Feature=%{y}<extra></extra>\",\"legendgroup\":\"\",\"marker\":{\"color\":[0.24352237111560682,0.20242758764564245,0.202122405316736,0.10728029723504026,0.08584132154274464,0.06660339908614521,0.03709171857603851,0.030960151870396496,0.024150747611649738],\"coloraxis\":\"coloraxis\",\"pattern\":{\"shape\":\"\"}},\"name\":\"\",\"offsetgroup\":\"\",\"orientation\":\"h\",\"showlegend\":false,\"textposition\":\"auto\",\"x\":[0.24352237111560682,0.20242758764564245,0.202122405316736,0.10728029723504026,0.08584132154274464,0.06660339908614521,0.03709171857603851,0.030960151870396496,0.024150747611649738],\"xaxis\":\"x\",\"y\":[\"NEW_BMI*Insulin\",\"Insulin\",\"Glucose\",\"Age\",\"BMI\",\"SkinThickness\",\"DiabetesPedigreeFunction\",\"Pregnancies\",\"BloodPressure\"],\"yaxis\":\"y\",\"type\":\"bar\"}],                        {\"template\":{\"data\":{\"histogram2dcontour\":[{\"type\":\"histogram2dcontour\",\"colorbar\":{\"outlinewidth\":0,\"ticks\":\"\"},\"colorscale\":[[0.0,\"#0d0887\"],[0.1111111111111111,\"#46039f\"],[0.2222222222222222,\"#7201a8\"],[0.3333333333333333,\"#9c179e\"],[0.4444444444444444,\"#bd3786\"],[0.5555555555555556,\"#d8576b\"],[0.6666666666666666,\"#ed7953\"],[0.7777777777777778,\"#fb9f3a\"],[0.8888888888888888,\"#fdca26\"],[1.0,\"#f0f921\"]]}],\"choropleth\":[{\"type\":\"choropleth\",\"colorbar\":{\"outlinewidth\":0,\"ticks\":\"\"}}],\"histogram2d\":[{\"type\":\"histogram2d\",\"colorbar\":{\"outlinewidth\":0,\"ticks\":\"\"},\"colorscale\":[[0.0,\"#0d0887\"],[0.1111111111111111,\"#46039f\"],[0.2222222222222222,\"#7201a8\"],[0.3333333333333333,\"#9c179e\"],[0.4444444444444444,\"#bd3786\"],[0.5555555555555556,\"#d8576b\"],[0.6666666666666666,\"#ed7953\"],[0.7777777777777778,\"#fb9f3a\"],[0.8888888888888888,\"#fdca26\"],[1.0,\"#f0f921\"]]}],\"heatmap\":[{\"type\":\"heatmap\",\"colorbar\":{\"outlinewidth\":0,\"ticks\":\"\"},\"colorscale\":[[0.0,\"#0d0887\"],[0.1111111111111111,\"#46039f\"],[0.2222222222222222,\"#7201a8\"],[0.3333333333333333,\"#9c179e\"],[0.4444444444444444,\"#bd3786\"],[0.5555555555555556,\"#d8576b\"],[0.6666666666666666,\"#ed7953\"],[0.7777777777777778,\"#fb9f3a\"],[0.8888888888888888,\"#fdca26\"],[1.0,\"#f0f921\"]]}],\"heatmapgl\":[{\"type\":\"heatmapgl\",\"colorbar\":{\"outlinewidth\":0,\"ticks\":\"\"},\"colorscale\":[[0.0,\"#0d0887\"],[0.1111111111111111,\"#46039f\"],[0.2222222222222222,\"#7201a8\"],[0.3333333333333333,\"#9c179e\"],[0.4444444444444444,\"#bd3786\"],[0.5555555555555556,\"#d8576b\"],[0.6666666666666666,\"#ed7953\"],[0.7777777777777778,\"#fb9f3a\"],[0.8888888888888888,\"#fdca26\"],[1.0,\"#f0f921\"]]}],\"contourcarpet\":[{\"type\":\"contourcarpet\",\"colorbar\":{\"outlinewidth\":0,\"ticks\":\"\"}}],\"contour\":[{\"type\":\"contour\",\"colorbar\":{\"outlinewidth\":0,\"ticks\":\"\"},\"colorscale\":[[0.0,\"#0d0887\"],[0.1111111111111111,\"#46039f\"],[0.2222222222222222,\"#7201a8\"],[0.3333333333333333,\"#9c179e\"],[0.4444444444444444,\"#bd3786\"],[0.5555555555555556,\"#d8576b\"],[0.6666666666666666,\"#ed7953\"],[0.7777777777777778,\"#fb9f3a\"],[0.8888888888888888,\"#fdca26\"],[1.0,\"#f0f921\"]]}],\"surface\":[{\"type\":\"surface\",\"colorbar\":{\"outlinewidth\":0,\"ticks\":\"\"},\"colorscale\":[[0.0,\"#0d0887\"],[0.1111111111111111,\"#46039f\"],[0.2222222222222222,\"#7201a8\"],[0.3333333333333333,\"#9c179e\"],[0.4444444444444444,\"#bd3786\"],[0.5555555555555556,\"#d8576b\"],[0.6666666666666666,\"#ed7953\"],[0.7777777777777778,\"#fb9f3a\"],[0.8888888888888888,\"#fdca26\"],[1.0,\"#f0f921\"]]}],\"mesh3d\":[{\"type\":\"mesh3d\",\"colorbar\":{\"outlinewidth\":0,\"ticks\":\"\"}}],\"scatter\":[{\"fillpattern\":{\"fillmode\":\"overlay\",\"size\":10,\"solidity\":0.2},\"type\":\"scatter\"}],\"parcoords\":[{\"type\":\"parcoords\",\"line\":{\"colorbar\":{\"outlinewidth\":0,\"ticks\":\"\"}}}],\"scatterpolargl\":[{\"type\":\"scatterpolargl\",\"marker\":{\"colorbar\":{\"outlinewidth\":0,\"ticks\":\"\"}}}],\"bar\":[{\"error_x\":{\"color\":\"#2a3f5f\"},\"error_y\":{\"color\":\"#2a3f5f\"},\"marker\":{\"line\":{\"color\":\"#E5ECF6\",\"width\":0.5},\"pattern\":{\"fillmode\":\"overlay\",\"size\":10,\"solidity\":0.2}},\"type\":\"bar\"}],\"scattergeo\":[{\"type\":\"scattergeo\",\"marker\":{\"colorbar\":{\"outlinewidth\":0,\"ticks\":\"\"}}}],\"scatterpolar\":[{\"type\":\"scatterpolar\",\"marker\":{\"colorbar\":{\"outlinewidth\":0,\"ticks\":\"\"}}}],\"histogram\":[{\"marker\":{\"pattern\":{\"fillmode\":\"overlay\",\"size\":10,\"solidity\":0.2}},\"type\":\"histogram\"}],\"scattergl\":[{\"type\":\"scattergl\",\"marker\":{\"colorbar\":{\"outlinewidth\":0,\"ticks\":\"\"}}}],\"scatter3d\":[{\"type\":\"scatter3d\",\"line\":{\"colorbar\":{\"outlinewidth\":0,\"ticks\":\"\"}},\"marker\":{\"colorbar\":{\"outlinewidth\":0,\"ticks\":\"\"}}}],\"scattermapbox\":[{\"type\":\"scattermapbox\",\"marker\":{\"colorbar\":{\"outlinewidth\":0,\"ticks\":\"\"}}}],\"scatterternary\":[{\"type\":\"scatterternary\",\"marker\":{\"colorbar\":{\"outlinewidth\":0,\"ticks\":\"\"}}}],\"scattercarpet\":[{\"type\":\"scattercarpet\",\"marker\":{\"colorbar\":{\"outlinewidth\":0,\"ticks\":\"\"}}}],\"carpet\":[{\"aaxis\":{\"endlinecolor\":\"#2a3f5f\",\"gridcolor\":\"white\",\"linecolor\":\"white\",\"minorgridcolor\":\"white\",\"startlinecolor\":\"#2a3f5f\"},\"baxis\":{\"endlinecolor\":\"#2a3f5f\",\"gridcolor\":\"white\",\"linecolor\":\"white\",\"minorgridcolor\":\"white\",\"startlinecolor\":\"#2a3f5f\"},\"type\":\"carpet\"}],\"table\":[{\"cells\":{\"fill\":{\"color\":\"#EBF0F8\"},\"line\":{\"color\":\"white\"}},\"header\":{\"fill\":{\"color\":\"#C8D4E3\"},\"line\":{\"color\":\"white\"}},\"type\":\"table\"}],\"barpolar\":[{\"marker\":{\"line\":{\"color\":\"#E5ECF6\",\"width\":0.5},\"pattern\":{\"fillmode\":\"overlay\",\"size\":10,\"solidity\":0.2}},\"type\":\"barpolar\"}],\"pie\":[{\"automargin\":true,\"type\":\"pie\"}]},\"layout\":{\"autotypenumbers\":\"strict\",\"colorway\":[\"#636efa\",\"#EF553B\",\"#00cc96\",\"#ab63fa\",\"#FFA15A\",\"#19d3f3\",\"#FF6692\",\"#B6E880\",\"#FF97FF\",\"#FECB52\"],\"font\":{\"color\":\"#2a3f5f\"},\"hovermode\":\"closest\",\"hoverlabel\":{\"align\":\"left\"},\"paper_bgcolor\":\"white\",\"plot_bgcolor\":\"#E5ECF6\",\"polar\":{\"bgcolor\":\"#E5ECF6\",\"angularaxis\":{\"gridcolor\":\"white\",\"linecolor\":\"white\",\"ticks\":\"\"},\"radialaxis\":{\"gridcolor\":\"white\",\"linecolor\":\"white\",\"ticks\":\"\"}},\"ternary\":{\"bgcolor\":\"#E5ECF6\",\"aaxis\":{\"gridcolor\":\"white\",\"linecolor\":\"white\",\"ticks\":\"\"},\"baxis\":{\"gridcolor\":\"white\",\"linecolor\":\"white\",\"ticks\":\"\"},\"caxis\":{\"gridcolor\":\"white\",\"linecolor\":\"white\",\"ticks\":\"\"}},\"coloraxis\":{\"colorbar\":{\"outlinewidth\":0,\"ticks\":\"\"}},\"colorscale\":{\"sequential\":[[0.0,\"#0d0887\"],[0.1111111111111111,\"#46039f\"],[0.2222222222222222,\"#7201a8\"],[0.3333333333333333,\"#9c179e\"],[0.4444444444444444,\"#bd3786\"],[0.5555555555555556,\"#d8576b\"],[0.6666666666666666,\"#ed7953\"],[0.7777777777777778,\"#fb9f3a\"],[0.8888888888888888,\"#fdca26\"],[1.0,\"#f0f921\"]],\"sequentialminus\":[[0.0,\"#0d0887\"],[0.1111111111111111,\"#46039f\"],[0.2222222222222222,\"#7201a8\"],[0.3333333333333333,\"#9c179e\"],[0.4444444444444444,\"#bd3786\"],[0.5555555555555556,\"#d8576b\"],[0.6666666666666666,\"#ed7953\"],[0.7777777777777778,\"#fb9f3a\"],[0.8888888888888888,\"#fdca26\"],[1.0,\"#f0f921\"]],\"diverging\":[[0,\"#8e0152\"],[0.1,\"#c51b7d\"],[0.2,\"#de77ae\"],[0.3,\"#f1b6da\"],[0.4,\"#fde0ef\"],[0.5,\"#f7f7f7\"],[0.6,\"#e6f5d0\"],[0.7,\"#b8e186\"],[0.8,\"#7fbc41\"],[0.9,\"#4d9221\"],[1,\"#276419\"]]},\"xaxis\":{\"gridcolor\":\"white\",\"linecolor\":\"white\",\"ticks\":\"\",\"title\":{\"standoff\":15},\"zerolinecolor\":\"white\",\"automargin\":true,\"zerolinewidth\":2},\"yaxis\":{\"gridcolor\":\"white\",\"linecolor\":\"white\",\"ticks\":\"\",\"title\":{\"standoff\":15},\"zerolinecolor\":\"white\",\"automargin\":true,\"zerolinewidth\":2},\"scene\":{\"xaxis\":{\"backgroundcolor\":\"#E5ECF6\",\"gridcolor\":\"white\",\"linecolor\":\"white\",\"showbackground\":true,\"ticks\":\"\",\"zerolinecolor\":\"white\",\"gridwidth\":2},\"yaxis\":{\"backgroundcolor\":\"#E5ECF6\",\"gridcolor\":\"white\",\"linecolor\":\"white\",\"showbackground\":true,\"ticks\":\"\",\"zerolinecolor\":\"white\",\"gridwidth\":2},\"zaxis\":{\"backgroundcolor\":\"#E5ECF6\",\"gridcolor\":\"white\",\"linecolor\":\"white\",\"showbackground\":true,\"ticks\":\"\",\"zerolinecolor\":\"white\",\"gridwidth\":2}},\"shapedefaults\":{\"line\":{\"color\":\"#2a3f5f\"}},\"annotationdefaults\":{\"arrowcolor\":\"#2a3f5f\",\"arrowhead\":0,\"arrowwidth\":1},\"geo\":{\"bgcolor\":\"white\",\"landcolor\":\"#E5ECF6\",\"subunitcolor\":\"white\",\"showland\":true,\"showlakes\":true,\"lakecolor\":\"white\"},\"title\":{\"x\":0.05},\"mapbox\":{\"style\":\"light\"}}},\"xaxis\":{\"anchor\":\"y\",\"domain\":[0.0,1.0],\"title\":{\"text\":\"Importance\"}},\"yaxis\":{\"anchor\":\"x\",\"domain\":[0.0,1.0],\"title\":{\"text\":\"Feature\"},\"categoryorder\":\"total ascending\"},\"coloraxis\":{\"colorbar\":{\"title\":{\"text\":\"Importance\"}},\"colorscale\":[[0.0,\"rgb(247,251,255)\"],[0.125,\"rgb(222,235,247)\"],[0.25,\"rgb(198,219,239)\"],[0.375,\"rgb(158,202,225)\"],[0.5,\"rgb(107,174,214)\"],[0.625,\"rgb(66,146,198)\"],[0.75,\"rgb(33,113,181)\"],[0.875,\"rgb(8,81,156)\"],[1.0,\"rgb(8,48,107)\"]]},\"legend\":{\"tracegroupgap\":0},\"title\":{\"text\":\"🌟 Feature Importances (Random Forest)\"},\"barmode\":\"relative\"},                        {\"responsive\": true}                    ).then(function(){\n",
       "                            \n",
       "var gd = document.getElementById('4c0fbb12-e2a2-48f5-9293-9aea3292cd32');\n",
       "var x = new MutationObserver(function (mutations, observer) {{\n",
       "        var display = window.getComputedStyle(gd).display;\n",
       "        if (!display || display === 'none') {{\n",
       "            console.log([gd, 'removed!']);\n",
       "            Plotly.purge(gd);\n",
       "            observer.disconnect();\n",
       "        }}\n",
       "}});\n",
       "\n",
       "// Listen for the removal of the full notebook cells\n",
       "var notebookContainer = gd.closest('#notebook-container');\n",
       "if (notebookContainer) {{\n",
       "    x.observe(notebookContainer, {childList: true});\n",
       "}}\n",
       "\n",
       "// Listen for the clearing of the current output cell\n",
       "var outputEl = gd.closest('.output');\n",
       "if (outputEl) {{\n",
       "    x.observe(outputEl, {childList: true});\n",
       "}}\n",
       "\n",
       "                        })                };                });            </script>        </div>"
      ]
     },
     "metadata": {},
     "output_type": "display_data"
    }
   ],
   "source": [
    "import plotly.express as px\n",
    "import pandas as pd\n",
    "\n",
    "# Veri hazırla\n",
    "feat_imp_df = pd.DataFrame({\n",
    "    'Feature': X.columns,\n",
    "    'Importance': rf_model.feature_importances_\n",
    "}).sort_values(by='Importance', ascending=False)\n",
    "\n",
    "# Etkileşimli yatay bar grafiği\n",
    "fig = px.bar(\n",
    "    feat_imp_df, \n",
    "    x='Importance', \n",
    "    y='Feature', \n",
    "    orientation='h', \n",
    "    color='Importance',\n",
    "    color_continuous_scale='Blues',  # Mavi tonları\n",
    "    title='🌟 Feature Importances (Random Forest)'\n",
    ")\n",
    "\n",
    "fig.update_layout(yaxis={'categoryorder':'total ascending'})\n",
    "fig.show()"
   ]
  },
  {
   "cell_type": "code",
   "execution_count": 326,
   "id": "dc787e6f-554f-40cc-bf90-2ab10c4534a8",
   "metadata": {},
   "outputs": [
    {
     "name": "stdout",
     "output_type": "stream",
     "text": [
      "İlk karar ağacının derinliği: 5\n"
     ]
    }
   ],
   "source": [
    "# İlk ağacın derinliğini göster\n",
    "print(\"İlk karar ağacının derinliği:\", rf_model.estimators_[0].get_depth())"
   ]
  },
  {
   "cell_type": "code",
   "execution_count": 328,
   "id": "fe2b0293-bf2b-466f-98a4-1ddaf45d241f",
   "metadata": {},
   "outputs": [
    {
     "name": "stdout",
     "output_type": "stream",
     "text": [
      "Ortalama derinlik: 5.0\n"
     ]
    }
   ],
   "source": [
    "depths = [est.get_depth() for est in rf_model.estimators_]\n",
    "print(\"Ortalama derinlik:\", sum(depths)/len(depths))"
   ]
  },
  {
   "cell_type": "code",
   "execution_count": 330,
   "id": "01fa6e75-fa30-4d8d-89dd-2de43633a2e1",
   "metadata": {},
   "outputs": [
    {
     "name": "stdout",
     "output_type": "stream",
     "text": [
      "Accuracy Score (Test) : 0.803030303030303\n",
      "Accuracy Score (Train): 0.8974683544303798\n"
     ]
    }
   ],
   "source": [
    "from sklearn.metrics import classification_report\n",
    "rand_score_test=rf_model.score(X_test, y_test)\n",
    "rand_score_train=rf_model.score(X_train, y_train)\n",
    "\n",
    "\n",
    "print(\"Accuracy Score (Test) :\",rand_score_test)\n",
    "print(\"Accuracy Score (Train):\",rand_score_train)"
   ]
  },
  {
   "cell_type": "code",
   "execution_count": 332,
   "id": "eecc2e7a-26cc-4a0b-8b11-876832829a4c",
   "metadata": {},
   "outputs": [
    {
     "name": "stdout",
     "output_type": "stream",
     "text": [
      "Recall (Test): 0.8350515463917526\n",
      "Recall (Train): 0.9496221662468514\n"
     ]
    }
   ],
   "source": [
    "from sklearn.metrics import recall_score\n",
    "\n",
    "# Eğitim ve test verisi için tahminler\n",
    "y_pred_rf = rf_model.predict(X_test)\n",
    "y_pred_train = rf_model.predict(X_train)\n",
    "\n",
    "# Recall skorlarını hesapla (ikili sınıflandırma varsayılarak)\n",
    "recall_test = recall_score(y_test, y_pred_rf)\n",
    "recall_train = recall_score(y_train, y_pred_train)\n",
    "\n",
    "print(\"Recall (Test):\", recall_test)\n",
    "print(\"Recall (Train):\", recall_train)"
   ]
  },
  {
   "cell_type": "code",
   "execution_count": 334,
   "id": "b523c0f1-ece5-4618-b790-268b9c7a6c6d",
   "metadata": {},
   "outputs": [
    {
     "name": "stdout",
     "output_type": "stream",
     "text": [
      "Cross-validation accuracy scores: [0.77777778 0.75757576 0.83838384 0.84771574 0.83756345]\n",
      "Ortalama accuracy: 0.8118033123109264\n"
     ]
    }
   ],
   "source": [
    "from sklearn.model_selection import cross_val_score\n",
    "from sklearn.ensemble import RandomForestClassifier\n",
    "\n",
    "# Modeli oluştur\n",
    "rf_model = RandomForestClassifier(max_depth=5, random_state=42)\n",
    "\n",
    "# 5-fold cross-validation ile accuracy ölç\n",
    "cv_scores = cross_val_score(rf_model, X, y, cv=5, scoring='accuracy')\n",
    "\n",
    "# Sonuçları yazdır\n",
    "print(\"Cross-validation accuracy scores:\", cv_scores)\n",
    "print(\"Ortalama accuracy:\", cv_scores.mean())"
   ]
  },
  {
   "cell_type": "code",
   "execution_count": 336,
   "id": "e0397fc5-5483-4fff-9022-a0a99ce3abff",
   "metadata": {},
   "outputs": [
    {
     "name": "stdout",
     "output_type": "stream",
     "text": [
      "Cross-validation recall scores: [0.84848485 0.78787879 0.86868687 0.92929293 0.89795918]\n",
      "Ortalama recall: 0.8664605236033808\n"
     ]
    }
   ],
   "source": [
    "\n",
    "# Recall için cross-validation\n",
    "recall_scores = cross_val_score(rf_model, X, y, cv=5, scoring='recall')\n",
    "\n",
    "# Sonuçları yazdır\n",
    "print(\"Cross-validation recall scores:\", recall_scores)\n",
    "print(\"Ortalama recall:\", recall_scores.mean())"
   ]
  },
  {
   "cell_type": "code",
   "execution_count": 338,
   "id": "f60f59bb-ddbb-4977-997f-986214b1d9ea",
   "metadata": {},
   "outputs": [],
   "source": [
    "from sklearn.model_selection import GridSearchCV"
   ]
  },
  {
   "cell_type": "code",
   "execution_count": 340,
   "id": "55ac3195-6205-46c0-bd08-b108781e8c2b",
   "metadata": {},
   "outputs": [],
   "source": [
    "rf_model = RandomForestClassifier(random_state=42)\n",
    "\n",
    "rf_params = {\"max_depth\": [5,6],\n",
    "             \"max_features\": [10, 15, 18],\n",
    "             \"min_samples_split\": [2,10],\n",
    "             \"n_estimators\": [100]} "
   ]
  },
  {
   "cell_type": "code",
   "execution_count": 342,
   "id": "8a68fa67-7f96-408a-aea3-fffee33b2c68",
   "metadata": {},
   "outputs": [
    {
     "name": "stdout",
     "output_type": "stream",
     "text": [
      "Fitting 5 folds for each of 12 candidates, totalling 60 fits\n"
     ]
    }
   ],
   "source": [
    "rf_best_grid = GridSearchCV(rf_model, rf_params, cv=5, n_jobs=-1, verbose=True).fit(X, y)"
   ]
  },
  {
   "cell_type": "code",
   "execution_count": 343,
   "id": "f9792fdd-7fb8-4f9d-9211-f4471237aa68",
   "metadata": {},
   "outputs": [
    {
     "data": {
      "text/plain": [
       "{'max_depth': 6,\n",
       " 'max_features': 10,\n",
       " 'min_samples_split': 2,\n",
       " 'n_estimators': 100}"
      ]
     },
     "execution_count": 343,
     "metadata": {},
     "output_type": "execute_result"
    }
   ],
   "source": [
    "rf_best_grid.best_params_"
   ]
  },
  {
   "cell_type": "code",
   "execution_count": 344,
   "id": "efabdf18-4318-425f-bc7a-9fa24e35a15f",
   "metadata": {},
   "outputs": [],
   "source": [
    "rf_final = rf_model.set_params(**rf_best_grid.best_params_, random_state=42).fit(X, y)"
   ]
  },
  {
   "cell_type": "code",
   "execution_count": 348,
   "id": "5eadecb2-6ffb-4ccc-b676-39da5daf5c1c",
   "metadata": {},
   "outputs": [],
   "source": [
    "y_pred = rf_final.predict(X_test)"
   ]
  },
  {
   "cell_type": "code",
   "execution_count": 350,
   "id": "85c6321e-0d03-4351-bcfb-4e81ec8d5c80",
   "metadata": {},
   "outputs": [
    {
     "name": "stdout",
     "output_type": "stream",
     "text": [
      "🌳 RandomForestClassifier Classification Report:\n",
      "              precision    recall  f1-score   support\n",
      "\n",
      "         0.0       0.97      0.87      0.92       101\n",
      "         1.0       0.88      0.97      0.92        97\n",
      "\n",
      "    accuracy                           0.92       198\n",
      "   macro avg       0.92      0.92      0.92       198\n",
      "weighted avg       0.92      0.92      0.92       198\n",
      "\n"
     ]
    },
    {
     "data": {
      "image/png": "[encoded data removed]",
      "text/plain": [
       "<Figure size 640x480 with 2 Axes>"
      ]
     },
     "metadata": {},
     "output_type": "display_data"
    }
   ],
   "source": [
    "# 4. Sınıflandırma raporunu yazdır\n",
    "print(\"🌳 RandomForestClassifier Classification Report:\")\n",
    "print(classification_report(y_test, y_pred, digits=2))\n",
    "\n",
    "# 5. Confusion Matrix'i çiz\n",
    "ConfusionMatrixDisplay.from_predictions(\n",
    "    y_test, y_pred, cmap=\"Blues\", values_format=\"d\"\n",
    ")\n",
    "plt.title(\"RandomForestClassifier Confusion Matrix\")\n",
    "plt.show()"
   ]
  },
  {
   "cell_type": "code",
   "execution_count": 352,
   "id": "004dfe52-8973-4dd8-8e21-b688d1d9a9c0",
   "metadata": {},
   "outputs": [
    {
     "name": "stdout",
     "output_type": "stream",
     "text": [
      "Accuracy Score (Test) : 0.9191919191919192\n",
      "Accuracy Score (Train): 0.9240506329113924\n"
     ]
    }
   ],
   "source": [
    "#from sklearn.metrics import classification_report\n",
    "rand_score_test=rf_final.score(X_test, y_test)\n",
    "rand_score_train=rf_final.score(X_train, y_train)\n",
    "\n",
    "\n",
    "print(\"Accuracy Score (Test) :\",rand_score_test)\n",
    "print(\"Accuracy Score (Train):\",rand_score_train)"
   ]
  },
  {
   "cell_type": "code",
   "execution_count": 354,
   "id": "a22bd71a-56b6-4035-8588-ce0b23cd048e",
   "metadata": {},
   "outputs": [
    {
     "name": "stdout",
     "output_type": "stream",
     "text": [
      "Recall (Test): 0.9690721649484536\n",
      "Recall (Train): 0.9748110831234257\n"
     ]
    }
   ],
   "source": [
    "# Eğitim ve test verisi için tahminler\n",
    "y_pred_test = rf_final.predict(X_test)\n",
    "y_pred_train = rf_final.predict(X_train)\n",
    "\n",
    "# Recall skorlarını hesapla (ikili sınıflandırma varsayılarak)\n",
    "recall_test = recall_score(y_test, y_pred)\n",
    "recall_train = recall_score(y_train, y_pred_train)\n",
    "\n",
    "print(\"Recall (Test):\", recall_test)\n",
    "print(\"Recall (Train):\", recall_train)"
   ]
  },
  {
   "cell_type": "code",
   "execution_count": 356,
   "id": "6da3c3ef-15de-4388-a1e1-0f0a958a1952",
   "metadata": {},
   "outputs": [
    {
     "name": "stdout",
     "output_type": "stream",
     "text": [
      "Cross-validation accuracy scores: [0.78787879 0.77777778 0.83333333 0.86294416 0.88324873]\n",
      "Ortalama accuracy: 0.8290365584781829\n"
     ]
    }
   ],
   "source": [
    "#from sklearn.ensemble import RandomForestClassifier\n",
    "\n",
    "# 5-fold cross-validation ile accuracy ölç\n",
    "cv_scores = cross_val_score(rf_final, X, y, cv=5, scoring='accuracy')\n",
    "\n",
    "# Sonuçları yazdır\n",
    "print(\"Cross-validation accuracy scores:\", cv_scores)\n",
    "print(\"Ortalama accuracy:\", cv_scores.mean())"
   ]
  },
  {
   "cell_type": "code",
   "execution_count": 358,
   "id": "0a428670-deac-4b8f-9e8c-76f862e8483c",
   "metadata": {},
   "outputs": [
    {
     "name": "stdout",
     "output_type": "stream",
     "text": [
      "Cross-validation recall scores: [0.83838384 0.82828283 0.87878788 0.94949495 0.94897959]\n",
      "Ortalama recall: 0.8887858173572459\n"
     ]
    }
   ],
   "source": [
    "# Recall için cross-validation\n",
    "recall_scores = cross_val_score(rf_model, X, y, cv=5, scoring='recall')\n",
    "\n",
    "# Sonuçları yazdır\n",
    "print(\"Cross-validation recall scores:\", recall_scores)\n",
    "print(\"Ortalama recall:\", recall_scores.mean())"
   ]
  },
  {
   "cell_type": "code",
   "execution_count": 360,
   "id": "c5a39a54-2b3c-4052-853a-2e64bdcad387",
   "metadata": {},
   "outputs": [
    {
     "name": "stdout",
     "output_type": "stream",
     "text": [
      "Precision (Test): 0.8785046728971962\n",
      "Precision (Train): 0.88558352402746\n",
      "\n",
      "Cross-validation precision scores: [0.76146789 0.75229358 0.80555556 0.81034483 0.83783784]\n",
      "Ortalama precision: 0.7934999377739017\n"
     ]
    }
   ],
   "source": [
    "# Precision skorlarını hesapla\n",
    "precision_test = precision_score(y_test, y_pred_test)\n",
    "precision_train = precision_score(y_train, y_pred_train)\n",
    "\n",
    "print(\"Precision (Test):\", precision_test)\n",
    "print(\"Precision (Train):\", precision_train)\n",
    "\n",
    "# Çapraz doğrulama ile precision hesaplama\n",
    "precision_cv_scores = cross_val_score(rf_final, X, y, cv=5, scoring='precision')\n",
    "\n",
    "print(\"\\nCross-validation precision scores:\", precision_cv_scores)\n",
    "print(\"Ortalama precision:\", precision_cv_scores.mean())"
   ]
  },
  {
   "cell_type": "code",
   "execution_count": 362,
   "id": "6a09c9da-4b62-478a-95e8-f85ed6ae7d31",
   "metadata": {},
   "outputs": [
    {
     "data": {
      "image/png": "[encoded data removed]",
      "text/plain": [
       "<Figure size 640x480 with 1 Axes>"
      ]
     },
     "metadata": {},
     "output_type": "display_data"
    }
   ],
   "source": [
    "from sklearn.model_selection import learning_curve\n",
    "import matplotlib.pyplot as plt\n",
    "import numpy as np\n",
    "\n",
    "train_sizes, train_scores, val_scores = learning_curve(\n",
    "    model, X, y, cv=5, scoring='recall', train_sizes=np.linspace(0.1, 1.0, 10)\n",
    ")\n",
    "\n",
    "plt.plot(train_sizes, np.mean(train_scores, axis=1), label='Train Recall')\n",
    "plt.plot(train_sizes, np.mean(val_scores, axis=1), label='Validation Recall')\n",
    "plt.xlabel('Training Set Size')\n",
    "plt.ylabel('Recall')\n",
    "plt.legend()\n",
    "plt.title('Learning Curve')\n",
    "plt.show()"
   ]
  },
  {
   "cell_type": "code",
   "execution_count": null,
   "id": "9b2705f3-b613-4006-a182-246d165b65aa",
   "metadata": {},
   "outputs": [],
   "source": []
  }
 ],
 "metadata": {
  "kernelspec": {
   "display_name": "Python [conda env:base] *",
   "language": "python",
   "name": "conda-base-py"
  },
  "language_info": {
   "codemirror_mode": {
    "name": "ipython",
    "version": 3
   },
   "file_extension": ".py",
   "mimetype": "text/x-python",
   "name": "python",
   "nbconvert_exporter": "python",
   "pygments_lexer": "ipython3",
   "version": "3.11.7"
  }
 },
 "nbformat": 4,
 "nbformat_minor": 5
}
